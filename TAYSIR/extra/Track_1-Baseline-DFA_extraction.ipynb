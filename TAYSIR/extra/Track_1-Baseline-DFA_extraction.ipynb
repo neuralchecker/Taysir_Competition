{
 "cells": [
  {
   "cell_type": "markdown",
   "metadata": {},
   "source": [
    "#  TAYSIR Baseline for Track 1- Extraction of DFA from Recurrent Neural Net already Trained on a Binary Classification Task\n",
    "\n",
    "### Welcome!\n",
    "\n",
    "This is a notebook to let you play around with the Deterministic Finite Automata (DFA) extraction baseline that use the k-means clustering algorithm on the hidden states of the model encountered while parsing the validation set.\n",
    "\n",
    "Inputed Neural Net can be LSTM, GRU or SRN network, after which it will draw a neat little DFA. It will not work for transformers models (please have a look at the dedicated notebook)."
   ]
  },
  {
   "cell_type": "markdown",
   "metadata": {},
   "source": [
    "# Requirements\n",
    "## Imports and version verifying "
   ]
  },
  {
   "cell_type": "code",
   "execution_count": 1,
   "metadata": {
    "id": "zOuRRA0OFIhG"
   },
   "outputs": [
    {
     "name": "stdout",
     "output_type": "stream",
     "text": [
      "Your torch version: 1.10.0+cu102\n",
      "Your mlflow version: 2.2.1\n",
      "Your python version: 3.9.7 | packaged by conda-forge | (default, Sep 29 2021, 19:20:46) \n",
      "[GCC 9.4.0]\n"
     ]
    }
   ],
   "source": [
    "import torch\n",
    "import mlflow\n",
    "\n",
    "print(\"Your torch version:\", torch.__version__)\n",
    "print(\"Your mlflow version:\", mlflow.__version__)\n",
    "import sys\n",
    "print(\"Your python version:\", sys.version)\n"
   ]
  },
  {
   "cell_type": "markdown",
   "metadata": {},
   "source": [
    "This notebook was tested with:\n",
    "* Torch version: 1.11.0+cu102\n",
    "* MLFlow version: 1.25.1\n",
    "* Python version: 3.8.10 [GCC 9.4.0]\n",
    "\n",
    "Python versions starting at 3.7 are supposed to work (but have not been tested).\n",
    "\n",
    "## Choosing the task\n",
    "\n",
    "First you must select one of the phases/datasets we provide"
   ]
  },
  {
   "cell_type": "code",
   "execution_count": 2,
   "metadata": {},
   "outputs": [],
   "source": [
    "TRACK = 1 #always for this track\n",
    "DATASET = 11"
   ]
  },
  {
   "cell_type": "markdown",
   "metadata": {},
   "source": [
    "## Loading the RNN of the competition\n"
   ]
  },
  {
   "cell_type": "code",
   "execution_count": 3,
   "metadata": {},
   "outputs": [
    {
     "name": "stderr",
     "output_type": "stream",
     "text": [
      "2023/03/14 22:44:16 WARNING mlflow.pytorch: Stored model version '1.13.1+cpu' does not match installed PyTorch version '1.10.0+cu102'\n"
     ]
    },
    {
     "data": {
      "text/plain": [
       "TNetwork(\n",
       "  28, 2, neurons_per_layer=64, cell_type=lstmx.LSTMx, batch_size=64, patience=5, task=bin\n",
       "  (mach[0]): LSTMx(\n",
       "    27, 64, batch_first=True\n",
       "    (drop_layer): Dropout(p=0, inplace=False)\n",
       "    (forward_layers[0]): LSTMCell(27, 64)\n",
       "  )\n",
       "  (dense): Sequential(\n",
       "    (0): Linear(in_features=64, out_features=2, bias=True)\n",
       "    (1): Sigmoid()\n",
       "    (2): Softmax(dim=-1)\n",
       "  )\n",
       ")"
      ]
     },
     "execution_count": 3,
     "metadata": {},
     "output_type": "execute_result"
    }
   ],
   "source": [
    "model_name = f\"models/{TRACK}.{DATASET}.taysir.model\"\n",
    "\n",
    "model = mlflow.pytorch.load_model(model_name)\n",
    "model.eval()"
   ]
  },
  {
   "cell_type": "markdown",
   "metadata": {},
   "source": [
    "### Initialisation of some variables that would be useful"
   ]
  },
  {
   "cell_type": "code",
   "execution_count": 4,
   "metadata": {},
   "outputs": [
    {
     "name": "stdout",
     "output_type": "stream",
     "text": [
      "The alphabet contains 27 symbols.\n",
      "The type of the recurrent cells is LSTMx\n"
     ]
    }
   ],
   "source": [
    "try:\n",
    "    nb_letters = model.input_size -1\n",
    "    cell_type = model.cell_type\n",
    "\n",
    "    print(\"The alphabet contains\", nb_letters, \"symbols.\")\n",
    "    print(\"The type of the recurrent cells is\", cell_type.__name__)\n",
    "except:\n",
    "    print(\"This model is likely a transformer. This baseline does NOT work for transformer\")"
   ]
  },
  {
   "cell_type": "markdown",
   "metadata": {},
   "source": [
    "## Load the data\n",
    "\n",
    "The input data is in the following format :\n",
    "\n",
    "```\n",
    "[Number of sequences] [Alphabet size]\n",
    "[Length of sequence] [List of symbols]\n",
    "[Length of sequence] [List of symbols]\n",
    "[Length of sequence] [List of symbols]\n",
    "...\n",
    "[Length of sequence] [List of symbols]\n",
    "```\n",
    "\n",
    "For example the following data :\n",
    "\n",
    "```\n",
    "5 10\n",
    "6 8 6 5 1 6 7 4 9\n",
    "12 8 6 9 4 6 8 2 1 0 6 5 9\n",
    "7 8 9 4 3 0 4 9\n",
    "4 8 0 4 9\n",
    "8 8 1 5 2 6 0 5 3 9\n",
    "```\n",
    "\n",
    "is composed of 5 sequences and have an alphabet size of 10 (so symbols are between 0 and 9) and the first sequence is composed of 6 symbols (8 6 5 1 6 7 4 9), notice that 8 is the start symbol and 9 is the end symbol."
   ]
  },
  {
   "cell_type": "code",
   "execution_count": 5,
   "metadata": {},
   "outputs": [],
   "source": [
    "file = f\"datasets/{TRACK}.{DATASET}.taysir.valid.words\"\n",
    "\n",
    "sequences = []\n",
    "with open(file) as f:\n",
    "    f.readline() #Skip first line (number of sequences, alphabet size)\n",
    "    for line in f:\n",
    "        line = line.strip()\n",
    "        seq = line.split(' ')\n",
    "        seq = [int(i) for i in seq[1:]] #Remove first value (length of sequence) and cast to int\n",
    "        sequences.append(seq)"
   ]
  },
  {
   "cell_type": "markdown",
   "metadata": {},
   "source": [
    "The variable *sequences* is thus **a list of lists**."
   ]
  },
  {
   "cell_type": "code",
   "execution_count": 6,
   "metadata": {},
   "outputs": [
    {
     "name": "stdout",
     "output_type": "stream",
     "text": [
      "Number of sequences: 4775\n",
      "10 first sequences:\n",
      "[25, 24, 9, 20, 14, 22, 13, 13, 13, 13, 13, 22, 20, 10, 13, 1, 13, 22, 13, 13, 11, 13, 1, 11, 10, 1, 14, 10, 13, 11, 11, 19, 11, 7, 24, 3, 12, 7, 5, 19, 5, 13, 19, 20, 7, 23, 21, 15, 10, 12, 19, 10, 14, 5, 15, 3, 23, 7, 20, 15, 22, 1, 10, 19, 19, 13, 19, 10, 22, 22, 0, 12, 13, 9, 7, 11, 10, 22, 11, 1, 7, 23, 5, 14, 0, 10, 12, 1, 15, 3, 21, 20, 13, 22, 1, 1, 10, 15, 9, 3, 12, 20, 13, 22, 1, 22, 3, 8, 12, 22, 10, 22, 13, 23, 10, 20, 3, 10, 14, 10, 12, 5, 20, 14, 8, 0, 21, 13, 10, 10, 22, 10, 19, 20, 5, 0, 9, 9, 9, 7, 11, 14, 14, 5, 23, 5, 19, 1, 22, 11, 19, 13, 11, 13, 12, 13, 26]\n",
      "[25, 24, 14, 0, 22, 15, 15, 14, 10, 3, 5, 3, 13, 5, 12, 7, 7, 20, 7, 22, 8, 23, 16, 5, 10, 21, 14, 14, 14, 21, 1, 5, 19, 12, 0, 20, 9, 14, 8, 13, 21, 22, 13, 21, 1, 21, 11, 22, 0, 10, 20, 9, 9, 3, 24, 13, 23, 3, 10, 11, 12, 7, 20, 1, 5, 21, 15, 5, 21, 14, 23, 21, 3, 14, 16, 14, 24, 12, 22, 19, 22, 13, 12, 12, 12, 3, 1, 20, 22, 0, 19, 15, 10, 10, 1, 15, 1, 10, 13, 12, 10, 19, 22, 16, 1, 21, 24, 23, 23, 7, 19, 0, 11, 13, 23, 12, 20, 11, 1, 14, 1, 12, 23, 23, 15, 22, 13, 22, 12, 8, 14, 23, 12, 13, 9, 11, 22, 23, 11, 19, 21, 20, 13, 1, 22, 22, 22, 19, 12, 21, 14, 22, 13, 23, 10, 14, 14, 5, 15, 12, 15, 22, 23, 7, 10, 15, 23, 3, 23, 1, 11, 22, 23, 22, 9, 16, 5, 16, 10, 8, 9, 0, 21, 19, 7, 20, 7, 8, 9, 22, 3, 8, 20, 20, 15, 23, 23, 7, 19, 8, 15, 5, 11, 8, 7, 3, 5, 10, 3, 21, 12, 11, 22, 23, 1, 12, 20, 1, 12, 5, 9, 13, 12, 5, 19, 8, 22, 11, 14, 14, 12, 22, 14, 23, 15, 21, 16, 22, 23, 24, 19, 13, 13, 1, 20, 21, 12, 13, 22, 24, 22, 22, 11, 14, 11, 21, 0, 21, 22, 23, 21, 21, 3, 3, 22, 13, 24, 5, 12, 0, 22, 21, 22, 3, 10, 0, 3, 5, 8, 12, 22, 14, 8, 1, 12, 22, 19, 22, 12, 14, 9, 22, 12, 24, 19, 22, 15, 19, 22, 15, 20, 1, 26]\n",
      "[25, 24, 14, 1, 1, 13, 13, 13, 5, 21, 22, 10, 20, 12, 11, 20, 23, 7, 13, 1, 11, 23, 12, 22, 21, 14, 7, 16, 1, 19, 1, 19, 23, 9, 13, 23, 5, 1, 13, 14, 3, 21, 9, 23, 20, 10, 7, 12, 8, 22, 24, 22, 1, 12, 21, 22, 14, 1, 13, 12, 1, 22, 22, 13, 1, 10, 7, 5, 1, 23, 21, 12, 20, 26]\n",
      "[25, 24, 20, 19, 1, 19, 8, 7, 1, 5, 20, 9, 1, 19, 22, 0, 9, 21, 22, 23, 23, 8, 1, 5, 22, 22, 14, 20, 22, 23, 5, 22, 22, 0, 14, 1, 22, 3, 11, 1, 1, 13, 20, 5, 23, 10, 22, 22, 1, 1, 13, 0, 13, 13, 22, 10, 14, 3, 12, 24, 10, 13, 24, 23, 21, 5, 15, 20, 11, 20, 1, 20, 14, 21, 3, 1, 13, 22, 10, 1, 13, 5, 20, 5, 13, 22, 14, 0, 22, 14, 13, 21, 0, 15, 24, 0, 20, 11, 12, 8, 5, 19, 22, 22, 11, 16, 20, 20, 22, 20, 20, 16, 14, 5, 21, 22, 23, 20, 15, 1, 21, 8, 3, 15, 22, 10, 11, 5, 10, 1, 14, 10, 22, 13, 22, 20, 0, 24, 22, 3, 23, 1, 23, 11, 5, 21, 22, 20, 22, 8, 5, 22, 3, 10, 20, 23, 8, 14, 19, 14, 11, 20, 23, 10, 5, 16, 16, 13, 5, 20, 22, 5, 13, 14, 14, 15, 1, 1, 19, 5, 20, 10, 3, 20, 20, 10, 15, 13, 20, 10, 15, 15, 21, 5, 13, 11, 23, 5, 1, 11, 7, 15, 14, 23, 23, 10, 20, 5, 13, 10, 0, 0, 10, 1, 5, 22, 23, 1, 22, 22, 20, 3, 1, 8, 22, 11, 15, 13, 20, 13, 19, 9, 5, 13, 23, 11, 16, 5, 22, 5, 13, 22, 10, 14, 23, 22, 10, 23, 1, 10, 20, 20, 10, 19, 5, 5, 12, 1, 14, 20, 15, 21, 19, 13, 9, 5, 15, 7, 1, 1, 19, 22, 12, 1, 5, 10, 10, 24, 22, 19, 23, 22, 19, 1, 22, 22, 22, 1, 14, 11, 5, 23, 3, 13, 5, 22, 22, 5, 14, 9, 7, 21, 14, 20, 22, 10, 26]\n",
      "[25, 24, 13, 12, 23, 11, 8, 8, 7, 5, 11, 13, 23, 19, 24, 22, 7, 13, 14, 1, 21, 22, 9, 22, 12, 13, 9, 12, 22, 21, 7, 7, 15, 11, 7, 16, 10, 1, 3, 20, 21, 1, 9, 24, 5, 9, 12, 19, 19, 3, 7, 20, 5, 14, 1, 20, 12, 7, 13, 15, 1, 15, 12, 12, 21, 19, 9, 23, 22, 13, 13, 7, 7, 13, 7, 10, 9, 13, 13, 15, 14, 24, 13, 7, 22, 5, 14, 9, 23, 13, 15, 19, 9, 7, 23, 21, 3, 23, 22, 14, 22, 20, 19, 19, 24, 22, 9, 12, 19, 15, 1, 21, 23, 12, 22, 20, 8, 1, 13, 13, 13, 21, 9, 15, 21, 14, 23, 16, 1, 9, 3, 22, 10, 5, 22, 9, 21, 9, 19, 7, 20, 5, 23, 7, 9, 24, 1, 1, 5, 5, 13, 15, 22, 13, 0, 20, 10, 14, 14, 21, 24, 12, 10, 9, 19, 22, 9, 3, 3, 20, 1, 20, 22, 15, 12, 9, 22, 15, 7, 1, 14, 14, 7, 19, 3, 24, 7, 14, 14, 13, 21, 0, 22, 9, 24, 24, 22, 21, 8, 19, 12, 3, 21, 8, 12, 20, 23, 19, 1, 19, 10, 23, 9, 14, 22, 23, 14, 13, 22, 7, 10, 15, 14, 7, 20, 9, 22, 9, 3, 9, 22, 5, 20, 13, 23, 16, 0, 22, 14, 20, 7, 13, 19, 5, 13, 21, 15, 13, 11, 1, 22, 10, 22, 5, 9, 13, 22, 10, 19, 5, 22, 1, 12, 1, 14, 15, 12, 15, 23, 5, 21, 5, 5, 22, 13, 1, 20, 23, 7, 5, 22, 1, 15, 23, 19, 12, 21, 12, 23, 15, 21, 12, 13, 13, 22, 9, 24, 23, 9, 0, 15, 14, 22, 15, 14, 22, 12, 22, 24, 19, 13, 15, 15, 3, 19, 19, 11, 19, 22, 12, 19, 19, 23, 15, 20, 22, 14, 12, 12, 22, 14, 22, 1, 23, 8, 19, 22, 1, 1, 3, 19, 12, 3, 3, 1, 12, 23, 21, 1, 10, 21, 22, 9, 16, 1, 11, 23, 8, 15, 1, 12, 15, 20, 16, 21, 12, 7, 13, 1, 15, 20, 7, 19, 15, 9, 20, 12, 23, 23, 15, 5, 22, 5, 15, 22, 22, 12, 1, 1, 8, 19, 11, 22, 5, 22, 0, 23, 13, 1, 8, 19, 5, 10, 12, 3, 23, 21, 8, 3, 11, 21, 10, 15, 14, 23, 23, 12, 9, 3, 9, 10, 15, 13, 13, 23, 24, 21, 22, 22, 14, 13, 12, 19, 11, 7, 23, 21, 3, 8, 13, 22, 22, 13, 23, 9, 15, 22, 24, 23, 8, 7, 16, 12, 3, 22, 10, 15, 9, 22, 19, 1, 19, 23, 9, 14, 19, 14, 23, 13, 23, 15, 26]\n",
      "[25, 24, 19, 13, 9, 20, 14, 22, 12, 22, 14, 9, 22, 22, 20, 9, 1, 5, 13, 11, 19, 14, 14, 9, 5, 14, 12, 13, 14, 21, 13, 22, 12, 14, 15, 3, 22, 15, 12, 11, 10, 1, 22, 22, 1, 22, 20, 8, 5, 24, 10, 14, 0, 12, 7, 11, 9, 23, 21, 9, 22, 13, 13, 5, 12, 13, 21, 15, 22, 0, 8, 15, 3, 16, 1, 1, 23, 19, 13, 19, 23, 9, 7, 9, 5, 21, 1, 7, 22, 22, 19, 5, 14, 22, 15, 12, 11, 12, 1, 5, 23, 21, 8, 13, 20, 10, 21, 23, 5, 13, 13, 22, 13, 15, 22, 19, 22, 11, 12, 10, 15, 16, 7, 12, 22, 1, 13, 20, 22, 23, 9, 13, 14, 24, 19, 9, 7, 19, 1, 5, 21, 12, 24, 13, 23, 3, 23, 22, 3, 1, 5, 13, 12, 14, 23, 19, 22, 19, 7, 15, 22, 22, 22, 19, 20, 23, 7, 22, 20, 1, 9, 14, 5, 14, 19, 1, 1, 21, 14, 23, 21, 23, 14, 1, 23, 9, 10, 22, 10, 13, 5, 13, 12, 23, 22, 12, 1, 19, 19, 15, 15, 22, 22, 8, 13, 3, 21, 13, 14, 22, 11, 10, 24, 22, 22, 23, 22, 9, 19, 23, 23, 9, 23, 10, 19, 23, 19, 13, 1, 15, 9, 23, 20, 19, 23, 20, 7, 14, 20, 22, 5, 13, 1, 10, 13, 5, 5, 1, 15, 13, 22, 10, 7, 5, 5, 12, 5, 5, 14, 10, 5, 13, 7, 1, 15, 9, 23, 19, 19, 12, 5, 21, 0, 24, 13, 22, 1, 20, 5, 5, 1, 0, 5, 21, 20, 15, 1, 21, 15, 22, 9, 13, 22, 15, 22, 10, 15, 11, 22, 23, 22, 14, 22, 24, 12, 23, 13, 14, 12, 12, 14, 14, 19, 19, 5, 19, 12, 19, 0, 11, 13, 21, 22, 13, 22, 21, 1, 5, 19, 22, 22, 1, 14, 8, 22, 1, 11, 1, 9, 23, 20, 3, 11, 24, 20, 12, 13, 13, 0, 13, 20, 1, 9, 1, 11, 9, 13, 1, 3, 21, 15, 13, 13, 22, 22, 1, 5, 10, 23, 13, 23, 12, 10, 1, 1, 12, 1, 23, 13, 10, 7, 22, 11, 7, 5, 20, 11, 5, 5, 5, 7, 10, 22, 0, 19, 7, 19, 24, 19, 23, 21, 9, 13, 13, 22, 22, 13, 22, 1, 9, 5, 13, 23, 12, 5, 11, 14, 12, 23, 1, 15, 8, 8, 13, 9, 22, 22, 11, 22, 23, 20, 12, 22, 24, 1, 14, 9, 10, 23, 15, 23, 10, 15, 1, 13, 0, 7, 0, 5, 19, 13, 22, 22, 12, 10, 22, 19, 15, 1, 12, 5, 1, 10, 3, 22, 11, 24, 22, 24, 12, 21, 22, 23, 10, 22, 22, 12, 20, 1, 19, 14, 11, 19, 5, 15, 1, 0, 23, 13, 13, 13, 5, 10, 1, 13, 13, 20, 13, 13, 9, 19, 19, 20, 5, 11, 3, 20, 12, 21, 14, 24, 13, 1, 22, 1, 9, 0, 22, 8, 14, 14, 19, 19, 19, 12, 10, 3, 12, 22, 21, 10, 14, 23, 24, 19, 14, 22, 10, 13, 5, 13, 7, 13, 23, 10, 15, 9, 13, 20, 22, 11, 3, 14, 12, 9, 22, 5, 9, 22, 13, 3, 12, 10, 5, 9, 5, 19, 8, 1, 21, 22, 21, 12, 0, 1, 20, 0, 20, 3, 13, 23, 22, 13, 21, 23, 3, 15, 12, 12, 20, 13, 11, 20, 22, 12, 8, 5, 23, 11, 13, 22, 20, 15, 1, 5, 19, 9, 19, 12, 1, 19, 5, 22, 1, 12, 21, 5, 10, 13, 11, 14, 13, 12, 12, 5, 1, 9, 22, 22, 19, 1, 23, 12, 14, 7, 12, 12, 12, 7, 19, 12, 12, 22, 12, 15, 13, 24, 10, 23, 7, 1, 13, 5, 13, 24, 12, 15, 12, 5, 13, 13, 19, 13, 22, 10, 12, 5, 0, 24, 3, 23, 10, 13, 11, 20, 14, 11, 3, 22, 12, 11, 14, 23, 12, 15, 22, 23, 13, 0, 14, 14, 8, 20, 3, 12, 10, 23, 21, 15, 1, 13, 22, 1, 1, 22, 16, 21, 0, 13, 14, 14, 3, 3, 15, 23, 0, 7, 23, 11, 9, 16, 9, 11, 10, 22, 11, 22, 15, 23, 11, 23, 11, 19, 14, 23, 15, 7, 5, 20, 12, 13, 23, 21, 15, 0, 14, 20, 19, 14, 22, 12, 12, 12, 3, 12, 15, 14, 23, 13, 14, 19, 5, 22, 21, 7, 20, 13, 12, 1, 5, 15, 14, 0, 10, 11, 23, 23, 22, 10, 19, 19, 3, 12, 15, 22, 0, 12, 23, 23, 24, 12, 23, 22, 9, 15, 9, 8, 5, 23, 9, 13, 10, 19, 23, 20, 19, 19, 19, 20, 12, 12, 12, 19, 5, 23, 1, 7, 12, 12, 23, 19, 19, 14, 12, 9, 19, 13, 22, 22, 5, 19, 1, 13, 0, 19, 23, 23, 5, 13, 22, 13, 23, 13, 22, 10, 10, 1, 20, 13, 19, 1, 20, 15, 23, 20, 3, 11, 9, 5, 23, 15, 3, 3, 24, 1, 15, 7, 10, 7, 12, 21, 13, 24, 13, 23, 13, 0, 23, 10, 12, 23, 13, 10, 10, 5, 12, 1, 13, 5, 14, 11, 20, 14, 21, 19, 23, 20, 1, 22, 20, 24, 13, 13, 22, 12, 19, 1, 12, 10, 12, 23, 21, 1, 7, 13, 13, 3, 1, 24, 10, 22, 22, 0, 9, 20, 1, 14, 12, 19, 22, 1, 1, 12, 3, 22, 7, 5, 22, 9, 15, 22, 9, 11, 20, 20, 14, 9, 12, 23, 20, 21, 14, 13, 22, 19, 7, 13, 5, 10, 0, 5, 1, 21, 22, 5, 22, 8, 7, 9, 7, 13, 5, 11, 23, 19, 9, 23, 22, 11, 5, 23, 20, 1, 15, 22, 11, 22, 15, 12, 19, 3, 22, 12, 7, 13, 11, 22, 3, 8, 24, 5, 22, 13, 22, 3, 21, 9, 9, 7, 11, 0, 22, 23, 9, 8, 22, 10, 12, 22, 5, 11, 23, 20, 13, 1, 23, 22, 14, 10, 1, 11, 12, 9, 22, 7, 19, 12, 22, 21, 1, 12, 22, 22, 1, 24, 23, 15, 12, 5, 13, 11, 9, 3, 12, 1, 23, 23, 1, 7, 3, 11, 9, 22, 23, 13, 22, 22, 9, 26]\n",
      "[25, 24, 3, 9, 23, 1, 7, 22, 19, 22, 15, 0, 10, 23, 8, 7, 10, 12, 22, 22, 14, 23, 22, 22, 11, 7, 5, 24, 19, 1, 10, 7, 13, 14, 12, 22, 10, 5, 10, 23, 12, 12, 16, 8, 15, 21, 21, 1, 1, 16, 22, 22, 10, 15, 15, 1, 14, 12, 12, 14, 19, 1, 1, 7, 12, 23, 23, 23, 11, 12, 7, 23, 3, 22, 7, 23, 3, 12, 13, 22, 23, 3, 21, 21, 9, 15, 22, 15, 21, 11, 23, 15, 22, 1, 5, 23, 5, 13, 23, 22, 15, 13, 10, 16, 5, 21, 19, 10, 20, 16, 11, 13, 11, 1, 7, 1, 7, 10, 23, 1, 23, 11, 11, 26]\n",
      "[25, 24, 13, 1, 13, 23, 23, 21, 23, 13, 10, 21, 21, 22, 1, 9, 9, 1, 13, 1, 10, 13, 11, 23, 22, 22, 21, 9, 24, 20, 12, 11, 15, 1, 0, 14, 3, 14, 3, 22, 22, 10, 19, 21, 12, 1, 21, 12, 13, 23, 22, 5, 19, 11, 23, 22, 12, 14, 13, 8, 21, 19, 13, 9, 22, 5, 15, 12, 22, 10, 22, 15, 22, 22, 3, 13, 23, 7, 14, 8, 0, 8, 13, 19, 8, 5, 14, 10, 14, 10, 23, 22, 21, 1, 22, 22, 11, 10, 0, 9, 1, 23, 5, 1, 21, 22, 1, 10, 13, 9, 13, 19, 22, 8, 5, 10, 12, 10, 19, 1, 5, 21, 20, 10, 21, 20, 13, 22, 12, 14, 21, 13, 1, 11, 10, 8, 14, 11, 10, 0, 23, 14, 20, 23, 22, 7, 19, 9, 1, 24, 13, 20, 14, 10, 19, 13, 22, 22, 5, 21, 10, 0, 10, 21, 14, 19, 20, 9, 9, 10, 0, 13, 15, 14, 22, 3, 8, 1, 23, 8, 12, 15, 5, 20, 14, 22, 11, 10, 7, 0, 22, 5, 3, 11, 13, 8, 19, 3, 8, 10, 22, 14, 23, 1, 14, 23, 12, 12, 12, 21, 14, 22, 7, 11, 21, 22, 14, 22, 1, 0, 12, 12, 20, 5, 15, 23, 24, 19, 7, 22, 7, 22, 11, 15, 11, 9, 9, 5, 19, 5, 13, 23, 11, 13, 7, 24, 21, 0, 10, 23, 9, 14, 11, 11, 1, 26]\n",
      "[25, 24, 15, 15, 1, 13, 20, 20, 10, 1, 23, 13, 22, 13, 13, 22, 23, 13, 10, 13, 13, 1, 13, 1, 14, 22, 19, 19, 23, 15, 13, 21, 10, 9, 22, 5, 0, 10, 1, 7, 11, 10, 22, 14, 10, 20, 13, 13, 11, 19, 13, 7, 10, 23, 3, 9, 10, 20, 19, 23, 13, 23, 0, 15, 13, 23, 13, 13, 13, 23, 22, 10, 19, 11, 24, 15, 23, 15, 3, 23, 11, 22, 14, 10, 12, 14, 21, 20, 14, 13, 22, 13, 1, 10, 12, 23, 19, 23, 22, 23, 21, 7, 1, 14, 16, 14, 20, 1, 21, 19, 14, 12, 22, 13, 22, 19, 20, 23, 13, 23, 7, 3, 3, 19, 10, 9, 10, 20, 24, 23, 7, 15, 1, 22, 10, 23, 1, 1, 13, 15, 12, 22, 19, 10, 13, 14, 5, 0, 23, 9, 14, 10, 14, 14, 14, 12, 24, 7, 22, 13, 19, 20, 20, 15, 13, 7, 7, 24, 14, 3, 14, 11, 23, 7, 5, 13, 19, 19, 13, 12, 10, 9, 9, 15, 20, 13, 13, 10, 13, 0, 19, 1, 3, 14, 14, 19, 13, 1, 10, 22, 13, 1, 1, 21, 13, 14, 22, 11, 7, 13, 13, 19, 5, 23, 5, 22, 11, 12, 5, 5, 1, 15, 12, 11, 22, 10, 11, 23, 23, 21, 8, 10, 19, 7, 7, 16, 10, 19, 5, 23, 21, 16, 1, 20, 3, 13, 22, 23, 13, 13, 12, 12, 3, 10, 5, 14, 15, 13, 7, 22, 12, 12, 23, 13, 13, 1, 14, 9, 7, 11, 12, 5, 21, 21, 22, 22, 10, 22, 12, 10, 19, 24, 10, 15, 15, 5, 10, 22, 19, 7, 19, 20, 13, 15, 21, 13, 5, 22, 13, 1, 10, 7, 3, 10, 12, 23, 20, 12, 13, 7, 5, 10, 13, 1, 14, 1, 5, 10, 22, 13, 21, 10, 22, 7, 13, 9, 16, 14, 9, 10, 10, 22, 24, 3, 13, 11, 11, 20, 21, 26]\n",
      "[25, 24, 11, 20, 11, 22, 13, 1, 9, 10, 1, 9, 9, 1, 9, 15, 14, 3, 10, 5, 14, 1, 11, 5, 1, 22, 13, 14, 11, 15, 19, 14, 19, 0, 14, 22, 14, 9, 15, 22, 5, 12, 14, 22, 15, 11, 3, 10, 23, 20, 12, 12, 12, 19, 12, 22, 9, 8, 21, 5, 22, 1, 22, 10, 15, 22, 7, 7, 22, 23, 15, 12, 16, 5, 21, 12, 5, 1, 12, 22, 15, 7, 22, 11, 9, 1, 23, 5, 12, 7, 23, 10, 10, 15, 5, 20, 14, 20, 10, 1, 3, 21, 22, 10, 23, 8, 14, 15, 10, 13, 19, 5, 19, 13, 22, 0, 23, 13, 11, 21, 8, 23, 19, 21, 1, 19, 22, 20, 1, 1, 20, 3, 12, 15, 22, 15, 9, 9, 12, 12, 23, 15, 19, 22, 21, 1, 23, 12, 12, 13, 20, 23, 11, 23, 5, 15, 22, 0, 20, 19, 10, 5, 12, 5, 19, 5, 22, 20, 13, 21, 22, 13, 22, 9, 14, 5, 11, 12, 19, 22, 19, 22, 21, 19, 19, 1, 22, 22, 15, 7, 22, 19, 5, 21, 0, 5, 21, 1, 22, 7, 10, 0, 21, 23, 14, 19, 12, 5, 22, 8, 22, 23, 11, 7, 5, 19, 1, 20, 21, 22, 14, 22, 21, 13, 5, 15, 22, 16, 13, 15, 21, 8, 7, 5, 3, 1, 7, 5, 22, 10, 20, 22, 10, 10, 23, 1, 16, 13, 24, 22, 23, 13, 21, 14, 0, 9, 22, 3, 11, 7, 13, 5, 13, 1, 14, 22, 23, 8, 15, 20, 20, 22, 23, 20, 1, 15, 16, 12, 16, 11, 7, 11, 23, 22, 22, 15, 9, 11, 12, 12, 0, 7, 22, 7, 22, 11, 23, 16, 19, 11, 21, 23, 7, 11, 1, 19, 21, 3, 8, 22, 24, 11, 5, 5, 14, 11, 13, 3, 11, 9, 9, 7, 1, 14, 3, 7, 23, 1, 23, 1, 14, 21, 13, 23, 24, 23, 12, 12, 20, 15, 9, 10, 22, 13, 5, 14, 19, 12, 5, 22, 22, 22, 15, 13, 12, 16, 1, 15, 22, 20, 19, 13, 11, 7, 20, 20, 9, 15, 3, 15, 3, 23, 20, 3, 7, 22, 22, 13, 24, 20, 13, 16, 10, 12, 5, 5, 7, 15, 7, 15, 15, 21, 0, 3, 14, 22, 15, 15, 15, 15, 15, 26]\n"
     ]
    }
   ],
   "source": [
    "print('Number of sequences:', len(sequences))\n",
    "print('10 first sequences:')\n",
    "for i in range(10):\n",
    "    print(sequences[i])"
   ]
  },
  {
   "cell_type": "markdown",
   "metadata": {},
   "source": [
    "We then load the trained RNN. It is given as a MLFlow model."
   ]
  },
  {
   "cell_type": "markdown",
   "metadata": {
    "id": "7HewNg6Ew6Jz"
   },
   "source": [
    "# Model extraction\n",
    "## Seeding\n",
    "We are seeding for reproductibility:"
   ]
  },
  {
   "cell_type": "code",
   "execution_count": 7,
   "metadata": {},
   "outputs": [],
   "source": [
    "import random\n",
    "import numpy as np\n",
    "seed = 42\n",
    "torch.manual_seed(seed)\n",
    "torch.cuda.manual_seed(seed)\n",
    "torch.cuda.manual_seed_all(seed)\n",
    "np.random.seed(seed)\n",
    "random.seed(seed)"
   ]
  },
  {
   "cell_type": "markdown",
   "metadata": {},
   "source": [
    "## Get the latent states\n",
    "We first define a function that computes and stores the latent states reached by the RNN during the processing of the available data. \n",
    "\n",
    "Notice that it is possible to batch this function and to use GPU, but we provide a basic version so that it would be more clear to understand how our RNN can be used."
   ]
  },
  {
   "cell_type": "code",
   "execution_count": 8,
   "metadata": {},
   "outputs": [],
   "source": [
    "def get_latent(model, sequences):\n",
    "    \"\"\"\n",
    "    This function parses the dataset into the model and keeps track of the hidden state of the model it saw during the process\n",
    "    returns the observed hidden states\n",
    "    input: the MLFlow model, the dataset\n",
    "    output: observed hidden states in a matrix\n",
    "    \"\"\"\n",
    "    with torch.no_grad():  \n",
    "        h_lists = []\n",
    "        \n",
    "        for w in sequences:\n",
    "            \n",
    "            one_hot_w = model.one_hot_encode(w)\n",
    "            \n",
    "            \"\"\"Get tensors of hidden states encountered at each layer\"\"\"\n",
    "            h_tensors = model.reached_hidden(one_hot_w, None)\n",
    "            \"\"\"\n",
    "            h_tensor is a list of list of states. The number of lists is the number of words (here one)\n",
    "                Each list is made of a number of tensors corresponding to the number of hidden layer\n",
    "                    Each tensor contains the hidden states encountered at this layer while parsing the word. \n",
    "                    Dimension:(1, w_length, size of the layer) \n",
    "            \"\"\" \n",
    "            h_tensors = h_tensors[0] # because we just passed one word\n",
    "            if model.task == 'lm':\n",
    "                h_tensors = h_tensors[-1] # to use the full string, not a prefix \n",
    "            \n",
    "            \"\"\"We need to go through the layers to get the states of the model, that is, the vectors concatenating the states of each layers\"\"\"\n",
    "            hiddens = []\n",
    "            for j in range(model.n_layers):\n",
    "                if model.hides_pairs: #True if LSTM, False otherwise \n",
    "                    (h,c) = h_tensors[j]\n",
    "                    #h contains the vectors outputed by the layer at each timestep/length, c contains the corresponding carries\n",
    "                    \n",
    "                    \"\"\"Get vectors concatening h and c for all prefix lengths\"\"\"\n",
    "                    #the squeeze got rid of the batch size dimension (here valued 1), the unbind allows to have one vector per prefix length\n",
    "                    l = list(zip(h.squeeze(0).unbind(0),\n",
    "                                c.squeeze(0).unbind(0)))\n",
    "                    #l contains the list of (h, c) encountered at this layer\n",
    "                    l= [torch.cat(x) for x in l]\n",
    "                    #Now l contains vectors corresponding to the concatenation of h and c at each prefix length\n",
    "\n",
    "                else:\n",
    "                    #non LSTM\n",
    "                    h = h_tensors[j]\n",
    "                    l = h.squeeze(0).unbind(0)\n",
    "                    \n",
    "                hiddens.append(l)\n",
    "                    \n",
    "            \"\"\"Merge the different lists: the state of a RNN is the concatenantion of the states of its recurrent layers\"\"\"\n",
    "            ls = list(map(list, zip(*hiddens))) # transpose\n",
    "            ls = [torch.cat(x) for x in ls]\n",
    "            #Make the vectors of hidden states into a matrix:\n",
    "            ls = torch.stack(ls)\n",
    "            \n",
    "            h_lists += [ls]\n",
    "            # So h_lists contains tensors, each one containing the hidden states encountered for a given word in sequences. Dim: (w_length, hidden_size)\n",
    "            \n",
    "    return torch.cat(h_lists)"
   ]
  },
  {
   "cell_type": "code",
   "execution_count": 9,
   "metadata": {},
   "outputs": [
    {
     "ename": "IndexError",
     "evalue": "Dimension out of range (expected to be in range of [-1, 0], but got 1)",
     "output_type": "error",
     "traceback": [
      "\u001b[0;31m---------------------------------------------------------------------------\u001b[0m",
      "\u001b[0;31mIndexError\u001b[0m                                Traceback (most recent call last)",
      "\u001b[0;32m/tmp/ipykernel_33995/3464855759.py\u001b[0m in \u001b[0;36m<module>\u001b[0;34m\u001b[0m\n\u001b[0;32m----> 1\u001b[0;31m \u001b[0mH\u001b[0m \u001b[0;34m=\u001b[0m \u001b[0mget_latent\u001b[0m\u001b[0;34m(\u001b[0m\u001b[0mmodel\u001b[0m\u001b[0;34m,\u001b[0m \u001b[0msequences\u001b[0m\u001b[0;34m)\u001b[0m\u001b[0;34m\u001b[0m\u001b[0;34m\u001b[0m\u001b[0m\n\u001b[0m",
      "\u001b[0;32m/tmp/ipykernel_33995/2424792935.py\u001b[0m in \u001b[0;36mget_latent\u001b[0;34m(model, sequences)\u001b[0m\n\u001b[1;32m     14\u001b[0m \u001b[0;34m\u001b[0m\u001b[0m\n\u001b[1;32m     15\u001b[0m             \u001b[0;34m\"\"\"Get tensors of hidden states encountered at each layer\"\"\"\u001b[0m\u001b[0;34m\u001b[0m\u001b[0;34m\u001b[0m\u001b[0m\n\u001b[0;32m---> 16\u001b[0;31m             \u001b[0mh_tensors\u001b[0m \u001b[0;34m=\u001b[0m \u001b[0mmodel\u001b[0m\u001b[0;34m.\u001b[0m\u001b[0mreached_hidden\u001b[0m\u001b[0;34m(\u001b[0m\u001b[0mone_hot_w\u001b[0m\u001b[0;34m,\u001b[0m \u001b[0;32mNone\u001b[0m\u001b[0;34m)\u001b[0m\u001b[0;34m\u001b[0m\u001b[0;34m\u001b[0m\u001b[0m\n\u001b[0m\u001b[1;32m     17\u001b[0m             \"\"\"\n\u001b[1;32m     18\u001b[0m             \u001b[0mh_tensor\u001b[0m \u001b[0;32mis\u001b[0m \u001b[0ma\u001b[0m \u001b[0mlist\u001b[0m \u001b[0mof\u001b[0m \u001b[0mlist\u001b[0m \u001b[0mof\u001b[0m \u001b[0mstates\u001b[0m\u001b[0;34m.\u001b[0m \u001b[0mThe\u001b[0m \u001b[0mnumber\u001b[0m \u001b[0mof\u001b[0m \u001b[0mlists\u001b[0m \u001b[0;32mis\u001b[0m \u001b[0mthe\u001b[0m \u001b[0mnumber\u001b[0m \u001b[0mof\u001b[0m \u001b[0mwords\u001b[0m \u001b[0;34m(\u001b[0m\u001b[0mhere\u001b[0m \u001b[0mone\u001b[0m\u001b[0;34m)\u001b[0m\u001b[0;34m\u001b[0m\u001b[0;34m\u001b[0m\u001b[0m\n",
      "\u001b[0;32m~/work/Taysir/TAYSIR/models/1.11.taysir.model/code/tnetwork.py\u001b[0m in \u001b[0;36mreached_hidden\u001b[0;34m(self, x, hidden)\u001b[0m\n\u001b[1;32m    264\u001b[0m     \u001b[0;32mdef\u001b[0m \u001b[0mreached_hidden\u001b[0m\u001b[0;34m(\u001b[0m\u001b[0mself\u001b[0m\u001b[0;34m,\u001b[0m \u001b[0mx\u001b[0m\u001b[0;34m,\u001b[0m \u001b[0mhidden\u001b[0m\u001b[0;34m=\u001b[0m\u001b[0;32mNone\u001b[0m\u001b[0;34m)\u001b[0m\u001b[0;34m:\u001b[0m\u001b[0;34m\u001b[0m\u001b[0;34m\u001b[0m\u001b[0m\n\u001b[1;32m    265\u001b[0m         \u001b[0;32mwith\u001b[0m \u001b[0mtorch\u001b[0m\u001b[0;34m.\u001b[0m\u001b[0mno_grad\u001b[0m\u001b[0;34m(\u001b[0m\u001b[0;34m)\u001b[0m\u001b[0;34m:\u001b[0m\u001b[0;34m\u001b[0m\u001b[0;34m\u001b[0m\u001b[0m\n\u001b[0;32m--> 266\u001b[0;31m             \u001b[0;32mreturn\u001b[0m \u001b[0mself\u001b[0m\u001b[0;34m.\u001b[0m\u001b[0mforward\u001b[0m\u001b[0;34m(\u001b[0m\u001b[0mx\u001b[0m\u001b[0;34m,\u001b[0m \u001b[0mhidden\u001b[0m\u001b[0;34m,\u001b[0m \u001b[0mfull_ret\u001b[0m\u001b[0;34m=\u001b[0m\u001b[0;32mTrue\u001b[0m\u001b[0;34m)\u001b[0m\u001b[0;34m[\u001b[0m\u001b[0;34m-\u001b[0m\u001b[0;36m1\u001b[0m\u001b[0;34m]\u001b[0m\u001b[0;34m\u001b[0m\u001b[0;34m\u001b[0m\u001b[0m\n\u001b[0m\u001b[1;32m    267\u001b[0m \u001b[0;34m\u001b[0m\u001b[0m\n\u001b[1;32m    268\u001b[0m     \u001b[0;34m@\u001b[0m\u001b[0mproperty\u001b[0m\u001b[0;34m\u001b[0m\u001b[0;34m\u001b[0m\u001b[0m\n",
      "\u001b[0;32m~/work/Taysir/TAYSIR/models/1.11.taysir.model/code/tnetwork.py\u001b[0m in \u001b[0;36mforward\u001b[0;34m(self, x, hidden, full_ret)\u001b[0m\n\u001b[1;32m    148\u001b[0m         \u001b[0;32mif\u001b[0m \u001b[0mself\u001b[0m\u001b[0;34m.\u001b[0m\u001b[0mtask\u001b[0m \u001b[0;34m==\u001b[0m \u001b[0;34m\"lm\"\u001b[0m\u001b[0;34m:\u001b[0m\u001b[0;34m\u001b[0m\u001b[0;34m\u001b[0m\u001b[0m\n\u001b[1;32m    149\u001b[0m             \u001b[0;32mreturn\u001b[0m \u001b[0mself\u001b[0m\u001b[0;34m.\u001b[0m\u001b[0mforward_lm\u001b[0m\u001b[0;34m(\u001b[0m\u001b[0mx\u001b[0m\u001b[0;34m,\u001b[0m \u001b[0mhidden\u001b[0m\u001b[0;34m,\u001b[0m \u001b[0mfull_ret\u001b[0m\u001b[0;34m)\u001b[0m\u001b[0;34m\u001b[0m\u001b[0;34m\u001b[0m\u001b[0m\n\u001b[0;32m--> 150\u001b[0;31m         \u001b[0;32mreturn\u001b[0m \u001b[0mself\u001b[0m\u001b[0;34m.\u001b[0m\u001b[0mforward_bin\u001b[0m\u001b[0;34m(\u001b[0m\u001b[0mx\u001b[0m\u001b[0;34m,\u001b[0m \u001b[0mhidden\u001b[0m\u001b[0;34m,\u001b[0m \u001b[0mfull_ret\u001b[0m\u001b[0;34m)\u001b[0m\u001b[0;34m\u001b[0m\u001b[0;34m\u001b[0m\u001b[0m\n\u001b[0m\u001b[1;32m    151\u001b[0m \u001b[0;34m\u001b[0m\u001b[0m\n\u001b[1;32m    152\u001b[0m     \u001b[0;32mdef\u001b[0m \u001b[0mforward_bin\u001b[0m\u001b[0;34m(\u001b[0m\u001b[0mself\u001b[0m\u001b[0;34m,\u001b[0m \u001b[0mx\u001b[0m\u001b[0;34m,\u001b[0m \u001b[0mhidden\u001b[0m\u001b[0;34m=\u001b[0m\u001b[0;32mNone\u001b[0m\u001b[0;34m,\u001b[0m \u001b[0mfull_ret\u001b[0m\u001b[0;34m=\u001b[0m\u001b[0;32mFalse\u001b[0m\u001b[0;34m)\u001b[0m\u001b[0;34m:\u001b[0m\u001b[0;34m\u001b[0m\u001b[0;34m\u001b[0m\u001b[0m\n",
      "\u001b[0;32m~/work/Taysir/TAYSIR/models/1.11.taysir.model/code/tnetwork.py\u001b[0m in \u001b[0;36mforward_bin\u001b[0;34m(self, x, hidden, full_ret)\u001b[0m\n\u001b[1;32m    152\u001b[0m     \u001b[0;32mdef\u001b[0m \u001b[0mforward_bin\u001b[0m\u001b[0;34m(\u001b[0m\u001b[0mself\u001b[0m\u001b[0;34m,\u001b[0m \u001b[0mx\u001b[0m\u001b[0;34m,\u001b[0m \u001b[0mhidden\u001b[0m\u001b[0;34m=\u001b[0m\u001b[0;32mNone\u001b[0m\u001b[0;34m,\u001b[0m \u001b[0mfull_ret\u001b[0m\u001b[0;34m=\u001b[0m\u001b[0;32mFalse\u001b[0m\u001b[0;34m)\u001b[0m\u001b[0;34m:\u001b[0m\u001b[0;34m\u001b[0m\u001b[0;34m\u001b[0m\u001b[0m\n\u001b[1;32m    153\u001b[0m         \u001b[0mwords\u001b[0m \u001b[0;34m=\u001b[0m \u001b[0munpad\u001b[0m\u001b[0;34m(\u001b[0m\u001b[0munbatch\u001b[0m\u001b[0;34m(\u001b[0m\u001b[0mx\u001b[0m\u001b[0;34m)\u001b[0m\u001b[0;34m)\u001b[0m\u001b[0;34m\u001b[0m\u001b[0;34m\u001b[0m\u001b[0m\n\u001b[0;32m--> 154\u001b[0;31m         states = [\n\u001b[0m\u001b[1;32m    155\u001b[0m             \u001b[0mself\u001b[0m\u001b[0;34m.\u001b[0m\u001b[0m_pass_recurrent\u001b[0m\u001b[0;34m(\u001b[0m\u001b[0mword\u001b[0m\u001b[0;34m,\u001b[0m \u001b[0mhidden\u001b[0m\u001b[0;34m,\u001b[0m \u001b[0mb\u001b[0m\u001b[0;34m=\u001b[0m\u001b[0mb\u001b[0m\u001b[0;34m)\u001b[0m \u001b[0;32mfor\u001b[0m \u001b[0mb\u001b[0m\u001b[0;34m,\u001b[0m \u001b[0mword\u001b[0m \u001b[0;32min\u001b[0m \u001b[0menumerate\u001b[0m\u001b[0;34m(\u001b[0m\u001b[0mwords\u001b[0m\u001b[0;34m)\u001b[0m\u001b[0;34m\u001b[0m\u001b[0;34m\u001b[0m\u001b[0m\n\u001b[1;32m    156\u001b[0m         ]\n",
      "\u001b[0;32m~/work/Taysir/TAYSIR/models/1.11.taysir.model/code/tnetwork.py\u001b[0m in \u001b[0;36m<listcomp>\u001b[0;34m(.0)\u001b[0m\n\u001b[1;32m    153\u001b[0m         \u001b[0mwords\u001b[0m \u001b[0;34m=\u001b[0m \u001b[0munpad\u001b[0m\u001b[0;34m(\u001b[0m\u001b[0munbatch\u001b[0m\u001b[0;34m(\u001b[0m\u001b[0mx\u001b[0m\u001b[0;34m)\u001b[0m\u001b[0;34m)\u001b[0m\u001b[0;34m\u001b[0m\u001b[0;34m\u001b[0m\u001b[0m\n\u001b[1;32m    154\u001b[0m         states = [\n\u001b[0;32m--> 155\u001b[0;31m             \u001b[0mself\u001b[0m\u001b[0;34m.\u001b[0m\u001b[0m_pass_recurrent\u001b[0m\u001b[0;34m(\u001b[0m\u001b[0mword\u001b[0m\u001b[0;34m,\u001b[0m \u001b[0mhidden\u001b[0m\u001b[0;34m,\u001b[0m \u001b[0mb\u001b[0m\u001b[0;34m=\u001b[0m\u001b[0mb\u001b[0m\u001b[0;34m)\u001b[0m \u001b[0;32mfor\u001b[0m \u001b[0mb\u001b[0m\u001b[0;34m,\u001b[0m \u001b[0mword\u001b[0m \u001b[0;32min\u001b[0m \u001b[0menumerate\u001b[0m\u001b[0;34m(\u001b[0m\u001b[0mwords\u001b[0m\u001b[0;34m)\u001b[0m\u001b[0;34m\u001b[0m\u001b[0;34m\u001b[0m\u001b[0m\n\u001b[0m\u001b[1;32m    156\u001b[0m         ]\n\u001b[1;32m    157\u001b[0m         \u001b[0mouts\u001b[0m\u001b[0;34m,\u001b[0m \u001b[0mhidden\u001b[0m \u001b[0;34m=\u001b[0m \u001b[0mself\u001b[0m\u001b[0;34m.\u001b[0m\u001b[0m_interpret_states\u001b[0m\u001b[0;34m(\u001b[0m\u001b[0mstates\u001b[0m\u001b[0;34m)\u001b[0m\u001b[0;34m\u001b[0m\u001b[0;34m\u001b[0m\u001b[0m\n",
      "\u001b[0;32m~/work/Taysir/TAYSIR/models/1.11.taysir.model/code/tnetwork.py\u001b[0m in \u001b[0;36m_pass_recurrent\u001b[0;34m(self, word, hidden, b)\u001b[0m\n\u001b[1;32m    335\u001b[0m                 \u001b[0;32melif\u001b[0m \u001b[0;32mnot\u001b[0m \u001b[0mself\u001b[0m\u001b[0;34m.\u001b[0m\u001b[0mhides_pairs\u001b[0m \u001b[0;32mand\u001b[0m \u001b[0mh\u001b[0m\u001b[0;34m.\u001b[0m\u001b[0mdim\u001b[0m\u001b[0;34m(\u001b[0m\u001b[0;34m)\u001b[0m \u001b[0;34m==\u001b[0m \u001b[0;36m3\u001b[0m\u001b[0;34m:\u001b[0m\u001b[0;34m\u001b[0m\u001b[0;34m\u001b[0m\u001b[0m\n\u001b[1;32m    336\u001b[0m                     \u001b[0mh\u001b[0m \u001b[0;34m=\u001b[0m \u001b[0mh\u001b[0m\u001b[0;34m[\u001b[0m\u001b[0;34m:\u001b[0m\u001b[0;34m,\u001b[0m \u001b[0mb\u001b[0m\u001b[0;34m]\u001b[0m\u001b[0;34m\u001b[0m\u001b[0;34m\u001b[0m\u001b[0m\n\u001b[0;32m--> 337\u001b[0;31m             \u001b[0mout\u001b[0m \u001b[0;34m=\u001b[0m \u001b[0mmachine\u001b[0m\u001b[0;34m(\u001b[0m\u001b[0mout\u001b[0m\u001b[0;34m[\u001b[0m\u001b[0;36m0\u001b[0m\u001b[0;34m]\u001b[0m\u001b[0;34m,\u001b[0m \u001b[0mh\u001b[0m\u001b[0;34m,\u001b[0m \u001b[0;34m**\u001b[0m\u001b[0moptions\u001b[0m\u001b[0;34m)\u001b[0m\u001b[0;34m\u001b[0m\u001b[0;34m\u001b[0m\u001b[0m\n\u001b[0m\u001b[1;32m    338\u001b[0m             \u001b[0;32mif\u001b[0m \u001b[0mlen\u001b[0m\u001b[0;34m(\u001b[0m\u001b[0mout\u001b[0m\u001b[0;34m)\u001b[0m \u001b[0;34m!=\u001b[0m \u001b[0;36m3\u001b[0m\u001b[0;34m:\u001b[0m\u001b[0;34m\u001b[0m\u001b[0;34m\u001b[0m\u001b[0m\n\u001b[1;32m    339\u001b[0m                 \u001b[0mout\u001b[0m \u001b[0;34m=\u001b[0m \u001b[0;34m(\u001b[0m\u001b[0;34m*\u001b[0m\u001b[0mout\u001b[0m\u001b[0;34m,\u001b[0m \u001b[0mout\u001b[0m\u001b[0;34m[\u001b[0m\u001b[0;36m0\u001b[0m\u001b[0;34m]\u001b[0m\u001b[0;34m)\u001b[0m\u001b[0;34m\u001b[0m\u001b[0;34m\u001b[0m\u001b[0m\n",
      "\u001b[0;32m/opt/conda/lib/python3.9/site-packages/torch/nn/modules/module.py\u001b[0m in \u001b[0;36m_call_impl\u001b[0;34m(self, *input, **kwargs)\u001b[0m\n\u001b[1;32m   1100\u001b[0m         if not (self._backward_hooks or self._forward_hooks or self._forward_pre_hooks or _global_backward_hooks\n\u001b[1;32m   1101\u001b[0m                 or _global_forward_hooks or _global_forward_pre_hooks):\n\u001b[0;32m-> 1102\u001b[0;31m             \u001b[0;32mreturn\u001b[0m \u001b[0mforward_call\u001b[0m\u001b[0;34m(\u001b[0m\u001b[0;34m*\u001b[0m\u001b[0minput\u001b[0m\u001b[0;34m,\u001b[0m \u001b[0;34m**\u001b[0m\u001b[0mkwargs\u001b[0m\u001b[0;34m)\u001b[0m\u001b[0;34m\u001b[0m\u001b[0;34m\u001b[0m\u001b[0m\n\u001b[0m\u001b[1;32m   1103\u001b[0m         \u001b[0;31m# Do not call functions when jit is used\u001b[0m\u001b[0;34m\u001b[0m\u001b[0;34m\u001b[0m\u001b[0m\n\u001b[1;32m   1104\u001b[0m         \u001b[0mfull_backward_hooks\u001b[0m\u001b[0;34m,\u001b[0m \u001b[0mnon_full_backward_hooks\u001b[0m \u001b[0;34m=\u001b[0m \u001b[0;34m[\u001b[0m\u001b[0;34m]\u001b[0m\u001b[0;34m,\u001b[0m \u001b[0;34m[\u001b[0m\u001b[0;34m]\u001b[0m\u001b[0;34m\u001b[0m\u001b[0;34m\u001b[0m\u001b[0m\n",
      "\u001b[0;32m~/work/Taysir/TAYSIR/models/1.11.taysir.model/code/lstmx.py\u001b[0m in \u001b[0;36mforward\u001b[0;34m(self, x, hxcx, full_ret)\u001b[0m\n\u001b[1;32m    303\u001b[0m \u001b[0;34m\u001b[0m\u001b[0m\n\u001b[1;32m    304\u001b[0m     \u001b[0;32mdef\u001b[0m \u001b[0mforward\u001b[0m\u001b[0;34m(\u001b[0m\u001b[0mself\u001b[0m\u001b[0;34m,\u001b[0m \u001b[0mx\u001b[0m\u001b[0;34m,\u001b[0m \u001b[0mhxcx\u001b[0m\u001b[0;34m=\u001b[0m\u001b[0;32mNone\u001b[0m\u001b[0;34m,\u001b[0m \u001b[0mfull_ret\u001b[0m\u001b[0;34m=\u001b[0m\u001b[0;32mNone\u001b[0m\u001b[0;34m)\u001b[0m\u001b[0;34m:\u001b[0m\u001b[0;34m\u001b[0m\u001b[0;34m\u001b[0m\u001b[0m\n\u001b[0;32m--> 305\u001b[0;31m         \u001b[0mout\u001b[0m \u001b[0;34m=\u001b[0m \u001b[0mself\u001b[0m\u001b[0;34m.\u001b[0m\u001b[0mforward_x\u001b[0m\u001b[0;34m(\u001b[0m\u001b[0mx\u001b[0m\u001b[0;34m,\u001b[0m \u001b[0mhxcx\u001b[0m\u001b[0;34m)\u001b[0m\u001b[0;34m\u001b[0m\u001b[0;34m\u001b[0m\u001b[0m\n\u001b[0m\u001b[1;32m    306\u001b[0m         \u001b[0;32mif\u001b[0m \u001b[0mfull_ret\u001b[0m\u001b[0;34m:\u001b[0m\u001b[0;34m\u001b[0m\u001b[0;34m\u001b[0m\u001b[0m\n\u001b[1;32m    307\u001b[0m             \u001b[0;32mreturn\u001b[0m \u001b[0mout\u001b[0m\u001b[0;34m\u001b[0m\u001b[0;34m\u001b[0m\u001b[0m\n",
      "\u001b[0;32m~/work/Taysir/TAYSIR/models/1.11.taysir.model/code/lstmx.py\u001b[0m in \u001b[0;36mforward_x\u001b[0;34m(self, x, hxcx)\u001b[0m\n\u001b[1;32m    377\u001b[0m             \u001b[0;32mif\u001b[0m \u001b[0mi\u001b[0m \u001b[0;34m!=\u001b[0m \u001b[0;36m0\u001b[0m\u001b[0;34m:\u001b[0m\u001b[0;34m\u001b[0m\u001b[0;34m\u001b[0m\u001b[0m\n\u001b[1;32m    378\u001b[0m                 \u001b[0mbatched\u001b[0m \u001b[0;34m=\u001b[0m \u001b[0mself\u001b[0m\u001b[0;34m.\u001b[0m\u001b[0mdrop_layer\u001b[0m\u001b[0;34m(\u001b[0m\u001b[0mbatched\u001b[0m\u001b[0;34m)\u001b[0m\u001b[0;34m\u001b[0m\u001b[0;34m\u001b[0m\u001b[0m\n\u001b[0;32m--> 379\u001b[0;31m             \u001b[0mh\u001b[0m\u001b[0;34m,\u001b[0m \u001b[0mc\u001b[0m \u001b[0;34m=\u001b[0m \u001b[0mself\u001b[0m\u001b[0;34m.\u001b[0m\u001b[0m_run_layer\u001b[0m\u001b[0;34m(\u001b[0m\u001b[0mbatched\u001b[0m\u001b[0;34m,\u001b[0m \u001b[0mhx\u001b[0m\u001b[0;34m[\u001b[0m\u001b[0;34m:\u001b[0m\u001b[0;34m,\u001b[0m \u001b[0mi\u001b[0m\u001b[0;34m]\u001b[0m\u001b[0;34m,\u001b[0m \u001b[0mcx\u001b[0m\u001b[0;34m[\u001b[0m\u001b[0;34m:\u001b[0m\u001b[0;34m,\u001b[0m \u001b[0mi\u001b[0m\u001b[0;34m]\u001b[0m\u001b[0;34m,\u001b[0m \u001b[0mi\u001b[0m\u001b[0;34m)\u001b[0m\u001b[0;34m\u001b[0m\u001b[0;34m\u001b[0m\u001b[0m\n\u001b[0m\u001b[1;32m    380\u001b[0m             \u001b[0mbatched\u001b[0m \u001b[0;34m=\u001b[0m \u001b[0mh\u001b[0m\u001b[0;34m\u001b[0m\u001b[0;34m\u001b[0m\u001b[0m\n\u001b[1;32m    381\u001b[0m             \u001b[0mall_h\u001b[0m\u001b[0;34m.\u001b[0m\u001b[0mappend\u001b[0m\u001b[0;34m(\u001b[0m\u001b[0mh\u001b[0m\u001b[0;34m)\u001b[0m\u001b[0;34m\u001b[0m\u001b[0;34m\u001b[0m\u001b[0m\n",
      "\u001b[0;32m~/work/Taysir/TAYSIR/models/1.11.taysir.model/code/lstmx.py\u001b[0m in \u001b[0;36m_run_layer\u001b[0;34m(self, x, hx, cx, t)\u001b[0m\n\u001b[1;32m    416\u001b[0m         \u001b[0mh\u001b[0m\u001b[0;34m,\u001b[0m \u001b[0mc\u001b[0m \u001b[0;34m=\u001b[0m \u001b[0mhx\u001b[0m\u001b[0;34m[\u001b[0m\u001b[0;36m0\u001b[0m\u001b[0;34m]\u001b[0m\u001b[0;34m,\u001b[0m \u001b[0mcx\u001b[0m\u001b[0;34m[\u001b[0m\u001b[0;36m0\u001b[0m\u001b[0;34m]\u001b[0m\u001b[0;34m\u001b[0m\u001b[0;34m\u001b[0m\u001b[0m\n\u001b[1;32m    417\u001b[0m         \u001b[0;32mfor\u001b[0m \u001b[0melement\u001b[0m \u001b[0;32min\u001b[0m \u001b[0mtimesteps\u001b[0m\u001b[0;34m:\u001b[0m\u001b[0;34m\u001b[0m\u001b[0;34m\u001b[0m\u001b[0m\n\u001b[0;32m--> 418\u001b[0;31m             \u001b[0mh\u001b[0m\u001b[0;34m,\u001b[0m \u001b[0mc\u001b[0m \u001b[0;34m=\u001b[0m \u001b[0mself\u001b[0m\u001b[0;34m.\u001b[0m\u001b[0mforward_layers\u001b[0m\u001b[0;34m[\u001b[0m\u001b[0mt\u001b[0m\u001b[0;34m]\u001b[0m\u001b[0;34m(\u001b[0m\u001b[0melement\u001b[0m\u001b[0;34m,\u001b[0m \u001b[0;34m(\u001b[0m\u001b[0mh\u001b[0m\u001b[0;34m,\u001b[0m \u001b[0mc\u001b[0m\u001b[0;34m)\u001b[0m\u001b[0;34m)\u001b[0m\u001b[0;34m\u001b[0m\u001b[0;34m\u001b[0m\u001b[0m\n\u001b[0m\u001b[1;32m    419\u001b[0m             \u001b[0mh_out\u001b[0m\u001b[0;34m.\u001b[0m\u001b[0mappend\u001b[0m\u001b[0;34m(\u001b[0m\u001b[0mh\u001b[0m\u001b[0;34m)\u001b[0m\u001b[0;34m\u001b[0m\u001b[0;34m\u001b[0m\u001b[0m\n\u001b[1;32m    420\u001b[0m             \u001b[0mc_out\u001b[0m\u001b[0;34m.\u001b[0m\u001b[0mappend\u001b[0m\u001b[0;34m(\u001b[0m\u001b[0mc\u001b[0m\u001b[0;34m)\u001b[0m\u001b[0;34m\u001b[0m\u001b[0;34m\u001b[0m\u001b[0m\n",
      "\u001b[0;32m/opt/conda/lib/python3.9/site-packages/torch/nn/modules/module.py\u001b[0m in \u001b[0;36m_call_impl\u001b[0;34m(self, *input, **kwargs)\u001b[0m\n\u001b[1;32m   1100\u001b[0m         if not (self._backward_hooks or self._forward_hooks or self._forward_pre_hooks or _global_backward_hooks\n\u001b[1;32m   1101\u001b[0m                 or _global_forward_hooks or _global_forward_pre_hooks):\n\u001b[0;32m-> 1102\u001b[0;31m             \u001b[0;32mreturn\u001b[0m \u001b[0mforward_call\u001b[0m\u001b[0;34m(\u001b[0m\u001b[0;34m*\u001b[0m\u001b[0minput\u001b[0m\u001b[0;34m,\u001b[0m \u001b[0;34m**\u001b[0m\u001b[0mkwargs\u001b[0m\u001b[0;34m)\u001b[0m\u001b[0;34m\u001b[0m\u001b[0;34m\u001b[0m\u001b[0m\n\u001b[0m\u001b[1;32m   1103\u001b[0m         \u001b[0;31m# Do not call functions when jit is used\u001b[0m\u001b[0;34m\u001b[0m\u001b[0;34m\u001b[0m\u001b[0m\n\u001b[1;32m   1104\u001b[0m         \u001b[0mfull_backward_hooks\u001b[0m\u001b[0;34m,\u001b[0m \u001b[0mnon_full_backward_hooks\u001b[0m \u001b[0;34m=\u001b[0m \u001b[0;34m[\u001b[0m\u001b[0;34m]\u001b[0m\u001b[0;34m,\u001b[0m \u001b[0;34m[\u001b[0m\u001b[0;34m]\u001b[0m\u001b[0;34m\u001b[0m\u001b[0;34m\u001b[0m\u001b[0m\n",
      "\u001b[0;32m/opt/conda/lib/python3.9/site-packages/torch/nn/modules/rnn.py\u001b[0m in \u001b[0;36mforward\u001b[0;34m(self, input, hx)\u001b[0m\n\u001b[1;32m   1065\u001b[0m             \u001b[0mzeros\u001b[0m \u001b[0;34m=\u001b[0m \u001b[0mtorch\u001b[0m\u001b[0;34m.\u001b[0m\u001b[0mzeros\u001b[0m\u001b[0;34m(\u001b[0m\u001b[0minput\u001b[0m\u001b[0;34m.\u001b[0m\u001b[0msize\u001b[0m\u001b[0;34m(\u001b[0m\u001b[0;36m0\u001b[0m\u001b[0;34m)\u001b[0m\u001b[0;34m,\u001b[0m \u001b[0mself\u001b[0m\u001b[0;34m.\u001b[0m\u001b[0mhidden_size\u001b[0m\u001b[0;34m,\u001b[0m \u001b[0mdtype\u001b[0m\u001b[0;34m=\u001b[0m\u001b[0minput\u001b[0m\u001b[0;34m.\u001b[0m\u001b[0mdtype\u001b[0m\u001b[0;34m,\u001b[0m \u001b[0mdevice\u001b[0m\u001b[0;34m=\u001b[0m\u001b[0minput\u001b[0m\u001b[0;34m.\u001b[0m\u001b[0mdevice\u001b[0m\u001b[0;34m)\u001b[0m\u001b[0;34m\u001b[0m\u001b[0;34m\u001b[0m\u001b[0m\n\u001b[1;32m   1066\u001b[0m             \u001b[0mhx\u001b[0m \u001b[0;34m=\u001b[0m \u001b[0;34m(\u001b[0m\u001b[0mzeros\u001b[0m\u001b[0;34m,\u001b[0m \u001b[0mzeros\u001b[0m\u001b[0;34m)\u001b[0m\u001b[0;34m\u001b[0m\u001b[0;34m\u001b[0m\u001b[0m\n\u001b[0;32m-> 1067\u001b[0;31m         return _VF.lstm_cell(\n\u001b[0m\u001b[1;32m   1068\u001b[0m             \u001b[0minput\u001b[0m\u001b[0;34m,\u001b[0m \u001b[0mhx\u001b[0m\u001b[0;34m,\u001b[0m\u001b[0;34m\u001b[0m\u001b[0;34m\u001b[0m\u001b[0m\n\u001b[1;32m   1069\u001b[0m             \u001b[0mself\u001b[0m\u001b[0;34m.\u001b[0m\u001b[0mweight_ih\u001b[0m\u001b[0;34m,\u001b[0m \u001b[0mself\u001b[0m\u001b[0;34m.\u001b[0m\u001b[0mweight_hh\u001b[0m\u001b[0;34m,\u001b[0m\u001b[0;34m\u001b[0m\u001b[0;34m\u001b[0m\u001b[0m\n",
      "\u001b[0;31mIndexError\u001b[0m: Dimension out of range (expected to be in range of [-1, 0], but got 1)"
     ]
    }
   ],
   "source": [
    "H = get_latent(model, sequences)"
   ]
  },
  {
   "cell_type": "markdown",
   "metadata": {},
   "source": [
    "## DFA Extraction Baseline\n",
    "This part is the one you need to change to put your own algorithm."
   ]
  },
  {
   "cell_type": "markdown",
   "metadata": {},
   "source": [
    "\n",
    "The general idea of this algorithm is to parse words into the RNN and store the hidden states then run the k-means algorithm\n",
    "on these vectors to get the state of the DFA. To find the transition, we use the centroid of\n",
    "each cluster as starting point for the RNN and look in which cluster we arrive for each letter. The information\n",
    "about the final states is obtained by feeding the centroid vector to the output layer(s), and initial state is an\n",
    "initial distribution over the abstract states.\n",
    "\n",
    "<ol>\n",
    "<li> <b>Collecting hidden state vectors</b> to get space <i>H</i> (Lines 1-6). At the first part,  we retrieve all hidden state values from RNN on the set of input sequences <i>X</i> and store them as <i>H</i> (Line 6). Moreover, we take out the hidden state values from all layers and directions, in the case of LSTM also retrieve cell state values.</li>\n",
    "<li><b>Fitting k-means model</b> on the latent values <i>H</i> to get the clusters <i>Q</i>  of k-means model (Lines 8-9)</li>\n",
    "<li><p> <b>Creating DFA set:</b> transition matrices E_&sigma;, final <i>F</i> and initial <i>I</i> states  (Lines 11-25):</p>\n",
    "<ul>\n",
    "<li>  <b> Transition matrices E_&sigma; (Lines 11-26)</b>. Firstly, we initialize zero matrices and vectors (Lines 11-15) and after to fill transition matrices we use two loops (Lines 16-17) that help to go through all amount of clusters and all elements of vocabulary. The next step is getting\n",
    "    the output features <i>out</i> from the last layer of the RNN  and <i>h</i> that contains the final hidden state (and cell state in the case of LSTM)\n",
    "    from all layers and directions (Line 18).\n",
    "     After getting an id of centroid <i>q'</i>  by classifying every <i>h</i> value with k-means model, we use <i>q'</i> to fill E_&sigma; with 1's (Lines 19-20).</li>\n",
    "<li><b> Final state vector <i>F</i> (Lines 21-23)</b>. To get the final state we use <i>out</i> on dense layer of trained RNN (Line 21) and if   <i>sigmoid(dense_out)</i> greater than or equal 0.5 fill <i>F[q]</i> with 1, otherwise it remains zero (Lines 22-23). \n",
    "<li> <b>Initial state vector <i>I</i> (Lines 24-26)</b>. To get id of element what be filled with 1, we classify <i>h_0</i> by k-means model and fill <i>I</i>. After when everything is done, we are able to create DFA set that contains <i>(I, F, E_&sigma;)</i>\n",
    "\n"
   ]
  },
  {
   "cell_type": "code",
   "execution_count": null,
   "metadata": {},
   "outputs": [],
   "source": [
    "from IPython.display import Image\n",
    "Image(\"algo_DFA.png\")"
   ]
  },
  {
   "cell_type": "markdown",
   "metadata": {},
   "source": [
    "### Baseline Algorithm\n",
    "And now we code our baseline Algorithm\n",
    "\n",
    "We use the data structure for Automaton that can be found in the toolbox *scikit-splearn* (more info at https://remieyraud.github.io/scikit-splearn/).\n",
    "\n",
    "The toolbox can easily be installed using:"
   ]
  },
  {
   "cell_type": "code",
   "execution_count": null,
   "metadata": {},
   "outputs": [],
   "source": [
    "!pip3 install scikit-splearn"
   ]
  },
  {
   "cell_type": "code",
   "execution_count": null,
   "metadata": {},
   "outputs": [],
   "source": [
    "from sklearn.cluster import KMeans\n",
    "from splearn.automaton import Automaton\n",
    "\n",
    "def extract_DFA(model, latent_values, n_clusters, nb_letters, random_state = 0):\n",
    "\n",
    "    \"\"\" \n",
    "    Parameters\n",
    "    ----------\n",
    "    model : object\n",
    "        RNN model\n",
    "    latent_values : stack of hidden states observed\n",
    "    n_clusters : int\n",
    "        Amount of clusters for K-means algorithm\n",
    "    nb_letters : list\n",
    "        List of the symbols in the sequences of the dataset\n",
    "\n",
    "    Returns\n",
    "    -------\n",
    "    DFA : object\n",
    "        Returns a DFA        \n",
    "    \"\"\"\n",
    "    \n",
    "    kmeans = KMeans(init=\"k-means++\", n_clusters=n_clusters, n_init=5, random_state = random_state)\n",
    "    kmeans.fit(latent_values.cpu())\n",
    "\n",
    "\n",
    "    Q = kmeans.cluster_centers_ # line 9 / centroids representing \n",
    "    I = torch.zeros(n_clusters) # line 11\n",
    "    F = torch.zeros(n_clusters) # line 11\n",
    "    trans_list = []  #line 12 - initialisation of the list of transition matrices\n",
    "\n",
    "    for i in range(nb_letters):   # line 13\n",
    "        trans_matrix = np.zeros((n_clusters, n_clusters)) # line 14\n",
    "        trans_list.append(trans_matrix) # line 15\n",
    "    \n",
    "    with torch.no_grad():\n",
    "        D = 2 if model.bidirectional else 1\n",
    "        LSTM = model.hides_pairs #True if each layer has hidden state formated as (h,c), that is, is made of LSTM cells\n",
    "        \n",
    "        for q in range(n_clusters): #line 16 \n",
    "            #Get the hidden state q corresponding to the centroid under consideration\n",
    "            centroid = torch.Tensor(Q[q])\n",
    "            \n",
    "            \"\"\"Format the centroid into the model latent dimension to use it as a starting state in the model\"\"\"\n",
    "            if LSTM: #\n",
    "                #Get values for each layers\n",
    "                state = centroid.view(model.n_layers,-1)\n",
    "                #get the hidden state of each layer separated from the carry\n",
    "                (h, c) = torch.tensor_split(state, 2, dim=-1)\n",
    "                h = h.unbind(0)\n",
    "                #Take care of the potential bidirectional behavior\n",
    "                h = [x.view(D, -1) for x in h]\n",
    "                \n",
    "                #same for the carry\n",
    "                c = c.unbind(0)\n",
    "                c = [x.view(D, -1) for x in c]\n",
    "                \n",
    "                h_centroid = list(zip(h,c))\n",
    "            else:\n",
    "                #Get values for each layers\n",
    "                state = centroid.view(model.n_layers,-1)\n",
    "                h = state.unbind(0)\n",
    "                #Take care of the potential bidirectional behavior\n",
    "                h_centroid = [x.view(D, -1) for x in h]\n",
    "                \n",
    "            for letter in range(nb_letters): # line 17               \n",
    "                \"\"\"Get the hidden state reached from the centroid using the current letter\"\"\"\n",
    "                \n",
    "                #First we encode the letter\n",
    "                one_hot_l = model.one_hot_encode([letter])\n",
    "                \n",
    "                #Then we forward this letter inside the RNN from the hidden state corresponding to the centroid    \n",
    "                if LSTM: \n",
    "                    output, h_c_list = model(one_hot_l, h_centroid)\n",
    "                    #h_c_list is the state reached. We format it in a vector following the same way that get_latent()\n",
    "                    v = [torch.cat(tuple(map(torch.flatten, x)), dim=-1) for x in h_c_list]\n",
    "                    h_reach = torch.cat(v)\n",
    "                else:\n",
    "                    output, h_list = model(one_hot_l, h_centroid)\n",
    "                    #h_list is the state reached from centroid using current letter. We format it in the same way that get_latent()\n",
    "                    v = [torch.flatten(x) for x in h_list]\n",
    "                    h_reach = torch.cat(v)\n",
    "                                                \n",
    "                #transform hidden state obtained to k_means format\n",
    "                h_kmeans = h_reach\n",
    "                                                            \n",
    "                #get reached cluster\n",
    "                q_prime = kmeans.predict(h_kmeans.reshape(1, -1)) #lines 19 - 20\n",
    "                q_prime = q_prime[0]\n",
    "                                                \n",
    "                #Modify correspond Automata transition matrix\n",
    "                trans_list[letter][q][q_prime] = 1 #line 21\n",
    "            \n",
    "            \"\"\"Is the state accepting? That is, what is the output of the dense layr(s) from the centroid\"\"\" \n",
    "            #Format of dense is different from h_centroid because only the last hidden layer is fed to dense one(s) - without c for LSTM\n",
    "            h = state[-1,:model.neurons_per_layer*D]\n",
    "            out = model.feed_dense(h)\n",
    "                                                 \n",
    "            F[q] = out.argmax()\n",
    "            \n",
    "        \"\"\"Who is the initial state?\"\"\"\n",
    "        #Initial state is always 0's, but the dimensions vary with the architecture. Easiest way to have it in the needed k-means format: \n",
    "        h_0 = torch.zeros_like(centroid)                                    \n",
    "        q_0 = kmeans.predict(h_0.reshape(1, -1))[0]\n",
    "        I[q_0]=1\n",
    "\n",
    "    DFA = Automaton(nbL=nb_letters, nbS=n_clusters, initial = np.array(I, dtype = float), final=np.array(F, dtype = float),   # line 28\n",
    "                transitions=trans_list, type='classic')\n",
    "\n",
    "    return DFA"
   ]
  },
  {
   "cell_type": "markdown",
   "metadata": {},
   "source": [
    "## Running the DFA extraction baseline"
   ]
  },
  {
   "cell_type": "code",
   "execution_count": null,
   "metadata": {},
   "outputs": [],
   "source": [
    "#Construction the DFA\n",
    "DFA = extract_DFA(model, H, n_clusters = 12, nb_letters = nb_letters)\n",
    "print(\"Number of states of the extracted DFA:\", DFA.initial.shape[0])\n",
    "print(\"Output on example:\", DFA.val(sequences[42]))"
   ]
  },
  {
   "cell_type": "markdown",
   "metadata": {},
   "source": [
    "# Submission\n",
    "Save extracted DFA as a MLFlow Model. This is the creation of the model needed for the submission to the competition. \n",
    "\n",
    "The only thing to do is to define a function that takes a sequence as a list of integers and returns the value given to this sequence to the sequence. Your model is **NOT** a parameter of this function. You should NOT take care of MLFlow saving here  "
   ]
  },
  {
   "cell_type": "code",
   "execution_count": null,
   "metadata": {},
   "outputs": [],
   "source": [
    "def predict(sequence):\n",
    "    return 0 if DFA.val(sequence)<0.5 else 1"
   ]
  },
  {
   "cell_type": "markdown",
   "metadata": {},
   "source": [
    "## Save and submit \n",
    "This is the creation of the model needed for the submission to the competition: you just have to run this cell. It will create in your current directory an **archive**  that you can then submit on the competition website.\n",
    "\n",
    "**You should NOT modify this part, just run it**"
   ]
  },
  {
   "cell_type": "code",
   "execution_count": null,
   "metadata": {},
   "outputs": [],
   "source": [
    "from submit_tools import save_function\n",
    "\n",
    "save_function(predict, alphabet_size=nb_letters, prefix=f'dataset_{TRACK}.{DATASET}_')"
   ]
  },
  {
   "cell_type": "markdown",
   "metadata": {},
   "source": [
    "# For fun, show DFA graphical representation\n",
    "You may need to install the graphviz library."
   ]
  },
  {
   "cell_type": "code",
   "execution_count": null,
   "metadata": {},
   "outputs": [],
   "source": [
    "dot =DFA.get_dot(threshold = 0.01, title = 'dotfile')\n",
    "# To display the dot string, one can use graphviz:\n",
    "from graphviz import Source\n",
    "src = Source(dot)\n",
    "src.render('dotfile' + '.gv', view=True)"
   ]
  }
 ],
 "metadata": {
  "accelerator": "GPU",
  "colab": {
   "collapsed_sections": [
    "NXdKde0kt3FR",
    "eKzzh3hot9vZ",
    "BMQF46fnw1Zk"
   ],
   "name": "PFA.ipynb",
   "provenance": []
  },
  "kernelspec": {
   "display_name": "Python 3 (ipykernel)",
   "language": "python",
   "name": "python3"
  },
  "language_info": {
   "codemirror_mode": {
    "name": "ipython",
    "version": 3
   },
   "file_extension": ".py",
   "mimetype": "text/x-python",
   "name": "python",
   "nbconvert_exporter": "python",
   "pygments_lexer": "ipython3",
   "version": "3.9.7"
  },
  "vscode": {
   "interpreter": {
    "hash": "122e9f251b80a4a76e7262659287020d96f7188da42b39e3d812967db6c8742d"
   }
  }
 },
 "nbformat": 4,
 "nbformat_minor": 4
}
