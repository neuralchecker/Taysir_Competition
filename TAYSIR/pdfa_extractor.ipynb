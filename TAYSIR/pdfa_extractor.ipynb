{
 "cells": [
  {
   "cell_type": "markdown",
   "metadata": {},
   "source": [
    "# TAYSIR competition - Track 2 Example Extraction\n",
    "\n",
    "### Welcome!\n",
    "\n",
    "This is a notebook to show the structure of a code to participate to the competition.\n",
    "\n",
    "You can also check the baseline notebook (available in the same archive) for more details about the TAYSIR models and how to use them."
   ]
  },
  {
   "cell_type": "markdown",
   "metadata": {},
   "source": [
    "## Prepare your environment"
   ]
  },
  {
   "cell_type": "code",
   "execution_count": null,
   "metadata": {},
   "outputs": [],
   "source": [
    "#!pip install mlflow torch"
   ]
  },
  {
   "cell_type": "code",
   "execution_count": null,
   "metadata": {},
   "outputs": [],
   "source": [
    "!pip install --upgrade pymodelextractor"
   ]
  },
  {
   "cell_type": "code",
   "execution_count": 4,
   "metadata": {},
   "outputs": [
    {
     "name": "stdout",
     "output_type": "stream",
     "text": [
      "PyTorch version : 2.0.0+cpu\n",
      "MLflow version : 2.2.2\n",
      "Your python version: 3.9.1 (default, Dec 11 2020, 09:29:25) [MSC v.1916 64 bit (AMD64)]\n"
     ]
    }
   ],
   "source": [
    "import torch\n",
    "import mlflow\n",
    "print('PyTorch version :', torch.__version__)\n",
    "print('MLflow version :', mlflow.__version__)\n",
    "import sys\n",
    "print(\"Your python version:\", sys.version)"
   ]
  },
  {
   "cell_type": "code",
   "execution_count": 2,
   "metadata": {},
   "outputs": [],
   "source": [
    "torch.set_num_threads(4)"
   ]
  },
  {
   "cell_type": "markdown",
   "metadata": {},
   "source": [
    "This notebook was tested with:\n",
    "* Torch version: 1.11.0+cu102\n",
    "* MLFlow version: 1.25.1\n",
    "* Python version: 3.8.10 [GCC 9.4.0]\n",
    "\n",
    "Python versions starting at 3.7 are supposed to work (but have not been tested).\n",
    "## Choosing the phase\n",
    "\n",
    "First you must select one of the phases/datasets we provide"
   ]
  },
  {
   "cell_type": "code",
   "execution_count": 7,
   "metadata": {},
   "outputs": [
    {
     "name": "stderr",
     "output_type": "stream",
     "text": [
      "2023/04/08 14:03:23 WARNING mlflow.pytorch: Stored model version '1.13.1+cpu' does not match installed PyTorch version '2.0.0+cpu'\n",
      "2023/04/08 14:03:23 WARNING mlflow.pytorch: Stored model version '1.13.1+cpu' does not match installed PyTorch version '2.0.0+cpu'\n",
      "2023/04/08 14:03:23 WARNING mlflow.pytorch: Stored model version '1.13.1+cpu' does not match installed PyTorch version '2.0.0+cpu'\n",
      "2023/04/08 14:03:23 WARNING mlflow.pytorch: Stored model version '1.13.1+cpu' does not match installed PyTorch version '2.0.0+cpu'\n",
      "2023/04/08 14:03:23 WARNING mlflow.pytorch: Stored model version '1.13.1+cpu' does not match installed PyTorch version '2.0.0+cpu'\n",
      "2023/04/08 14:03:23 WARNING mlflow.pytorch: Stored model version '1.13.1+cpu' does not match installed PyTorch version '2.0.0+cpu'\n",
      "2023/04/08 14:03:23 WARNING mlflow.pytorch: Stored model version '1.13.1+cpu' does not match installed PyTorch version '2.0.0+cpu'\n",
      "2023/04/08 14:03:23 WARNING mlflow.pytorch: Stored model version '1.13.1+cpu' does not match installed PyTorch version '2.0.0+cpu'\n",
      "2023/04/08 14:03:23 WARNING mlflow.pytorch: Stored model version '1.13.1+cpu' does not match installed PyTorch version '2.0.0+cpu'\n",
      "2023/04/08 14:03:23 WARNING mlflow.pytorch: Stored model version '1.11.0+cu102' does not match installed PyTorch version '2.0.0+cpu'\n"
     ]
    },
    {
     "name": "stdout",
     "output_type": "stream",
     "text": [
      "\n",
      "\n",
      "Model: 1\n",
      "TNetwork(\n",
      "  23, 22, n_layers=2, neurons_per_layer=64, batch_size=64, patience=5, split_dense=True, task=lm\n",
      "  (mach[0]): RNN(22, 64, batch_first=True)\n",
      "  (mach[1]): RNN(64, 64, batch_first=True)\n",
      "  (dense): Sequential(\n",
      "    (0): Linear(in_features=64, out_features=32, bias=True)\n",
      "    (1): Linear(in_features=32, out_features=22, bias=True)\n",
      "    (2): Sigmoid()\n",
      "    (3): Softmax(dim=-1)\n",
      "  )\n",
      ")\n",
      "The alphabet contains 22 symbols.\n",
      "The type of the recurrent cells is RNN\n",
      "\n",
      "\n",
      "Model: 2\n",
      "TNetwork(\n",
      "  10, 9, n_layers=2, neurons_per_layer=256, cell_type=lstmx.LSTMx, batch_size=64, patience=5, split_dense=True, task=lm\n",
      "  (mach[0]): LSTMx(\n",
      "    9, 256, batch_first=True\n",
      "    (drop_layer): Dropout(p=0, inplace=False)\n",
      "    (forward_layers[0]): LSTMCell(9, 256)\n",
      "  )\n",
      "  (mach[1]): LSTMx(\n",
      "    256, 256, batch_first=True\n",
      "    (drop_layer): Dropout(p=0, inplace=False)\n",
      "    (forward_layers[0]): LSTMCell(256, 256)\n",
      "  )\n",
      "  (dense): Sequential(\n",
      "    (0): Linear(in_features=256, out_features=128, bias=True)\n",
      "    (1): Linear(in_features=128, out_features=9, bias=True)\n",
      "    (2): Sigmoid()\n",
      "    (3): Softmax(dim=-1)\n",
      "  )\n",
      ")\n",
      "The alphabet contains 9 symbols.\n",
      "The type of the recurrent cells is LSTMx\n",
      "\n",
      "\n",
      "Model: 3\n",
      "TNetwork(\n",
      "  18, 17, n_layers=2, neurons_per_layer=64, cell_type=lstmx.LSTMx, batch_size=64, patience=5, split_dense=True, task=lm\n",
      "  (mach[0]): LSTMx(\n",
      "    17, 64, batch_first=True\n",
      "    (drop_layer): Dropout(p=0, inplace=False)\n",
      "    (forward_layers[0]): LSTMCell(17, 64)\n",
      "  )\n",
      "  (mach[1]): LSTMx(\n",
      "    64, 64, batch_first=True\n",
      "    (drop_layer): Dropout(p=0, inplace=False)\n",
      "    (forward_layers[0]): LSTMCell(64, 64)\n",
      "  )\n",
      "  (dense): Sequential(\n",
      "    (0): Linear(in_features=64, out_features=32, bias=True)\n",
      "    (1): Linear(in_features=32, out_features=17, bias=True)\n",
      "    (2): Sigmoid()\n",
      "    (3): Softmax(dim=-1)\n",
      "  )\n",
      ")\n",
      "The alphabet contains 17 symbols.\n",
      "The type of the recurrent cells is LSTMx\n",
      "\n",
      "\n",
      "Model: 4\n",
      "TNetwork(\n",
      "  23, 22, cell_type=torch.nn.modules.rnn.GRU, batch_size=128, patience=5, split_dense=True, task=lm\n",
      "  (mach[0]): GRU(22, 32, batch_first=True)\n",
      "  (dense): Sequential(\n",
      "    (0): Linear(in_features=32, out_features=16, bias=True)\n",
      "    (1): Linear(in_features=16, out_features=22, bias=True)\n",
      "    (2): Sigmoid()\n",
      "    (3): Softmax(dim=-1)\n",
      "  )\n",
      ")\n",
      "The alphabet contains 22 symbols.\n",
      "The type of the recurrent cells is GRU\n",
      "\n",
      "\n",
      "Model: 5\n",
      "TNetwork(\n",
      "  36, 35, neurons_per_layer=512, cell_type=lstmx.LSTMx, batch_size=64, patience=20, split_dense=True, task=lm\n",
      "  (mach[0]): LSTMx(\n",
      "    35, 512, batch_first=True\n",
      "    (drop_layer): Dropout(p=0, inplace=False)\n",
      "    (forward_layers[0]): LSTMCell(35, 512)\n",
      "  )\n",
      "  (dense): Sequential(\n",
      "    (0): Linear(in_features=512, out_features=256, bias=True)\n",
      "    (1): Linear(in_features=256, out_features=35, bias=True)\n",
      "    (2): Sigmoid()\n",
      "    (3): Softmax(dim=-1)\n",
      "  )\n",
      ")\n",
      "The alphabet contains 35 symbols.\n",
      "The type of the recurrent cells is LSTMx\n",
      "\n",
      "\n",
      "Model: 6\n",
      "TNetwork(\n",
      "  23, 22, cell_type=torch.nn.modules.rnn.GRU, batch_size=64, patience=5, bidirectional=True, task=lm\n",
      "  (mach[0]): GRU(22, 32, batch_first=True, bidirectional=True)\n",
      "  (dense): Sequential(\n",
      "    (0): Linear(in_features=64, out_features=22, bias=True)\n",
      "    (1): Sigmoid()\n",
      "    (2): Softmax(dim=-1)\n",
      "  )\n",
      ")\n",
      "The alphabet contains 22 symbols.\n",
      "The type of the recurrent cells is GRU\n",
      "\n",
      "\n",
      "Model: 7\n",
      "TNetwork(\n",
      "  23, 22, n_layers=2, neurons_per_layer=64, batch_size=64, patience=5, split_dense=True, task=lm\n",
      "  (mach[0]): RNN(22, 64, batch_first=True)\n",
      "  (mach[1]): RNN(64, 64, batch_first=True)\n",
      "  (dense): Sequential(\n",
      "    (0): Linear(in_features=64, out_features=32, bias=True)\n",
      "    (1): Linear(in_features=32, out_features=22, bias=True)\n",
      "    (2): Sigmoid()\n",
      "    (3): Softmax(dim=-1)\n",
      "  )\n",
      ")\n",
      "The alphabet contains 22 symbols.\n",
      "The type of the recurrent cells is RNN\n",
      "\n",
      "\n",
      "Model: 8\n",
      "TNetwork(\n",
      "  27, 26, n_layers=2, neurons_per_layer=124, batch_size=64, patience=5, task=lm\n",
      "  (mach[0]): RNN(26, 124, batch_first=True)\n",
      "  (mach[1]): RNN(124, 124, batch_first=True)\n",
      "  (dense): Sequential(\n",
      "    (0): Linear(in_features=124, out_features=26, bias=True)\n",
      "    (1): Sigmoid()\n",
      "    (2): Softmax(dim=-1)\n",
      "  )\n",
      ")\n",
      "The alphabet contains 26 symbols.\n",
      "The type of the recurrent cells is RNN\n",
      "\n",
      "\n",
      "Model: 9\n",
      "TNetwork(\n",
      "  23, 22, cell_type=torch.nn.modules.rnn.GRU, batch_size=64, patience=5, bidirectional=True, task=lm\n",
      "  (mach[0]): GRU(22, 32, batch_first=True, bidirectional=True)\n",
      "  (dense): Sequential(\n",
      "    (0): Linear(in_features=64, out_features=22, bias=True)\n",
      "    (1): Sigmoid()\n",
      "    (2): Softmax(dim=-1)\n",
      "  )\n",
      ")\n",
      "The alphabet contains 22 symbols.\n",
      "The type of the recurrent cells is GRU\n",
      "\n",
      "\n",
      "Model: 10\n",
      "DistilBertForTokenClassification(\n",
      "  (distilbert): DistilBertModel(\n",
      "    (embeddings): Embeddings(\n",
      "      (word_embeddings): Embedding(64, 256, padding_idx=0)\n",
      "      (position_embeddings): Embedding(512, 256)\n",
      "      (LayerNorm): LayerNorm((256,), eps=1e-12, elementwise_affine=True)\n",
      "      (dropout): Dropout(p=0.1, inplace=False)\n",
      "    )\n",
      "    (transformer): Transformer(\n",
      "      (layer): ModuleList(\n",
      "        (0-7): 8 x TransformerBlock(\n",
      "          (attention): MultiHeadSelfAttention(\n",
      "            (dropout): Dropout(p=0.1, inplace=False)\n",
      "            (q_lin): Linear(in_features=256, out_features=256, bias=True)\n",
      "            (k_lin): Linear(in_features=256, out_features=256, bias=True)\n",
      "            (v_lin): Linear(in_features=256, out_features=256, bias=True)\n",
      "            (out_lin): Linear(in_features=256, out_features=256, bias=True)\n",
      "          )\n",
      "          (sa_layer_norm): LayerNorm((256,), eps=1e-12, elementwise_affine=True)\n",
      "          (ffn): FFN(\n",
      "            (dropout): Dropout(p=0.1, inplace=False)\n",
      "            (lin1): Linear(in_features=256, out_features=512, bias=True)\n",
      "            (lin2): Linear(in_features=512, out_features=256, bias=True)\n",
      "            (activation): GELUActivation()\n",
      "          )\n",
      "          (output_layer_norm): LayerNorm((256,), eps=1e-12, elementwise_affine=True)\n",
      "        )\n",
      "      )\n",
      "    )\n",
      "  )\n",
      "  (dropout): Dropout(p=0.1, inplace=False)\n",
      "  (classifier): Linear(in_features=256, out_features=64, bias=True)\n",
      ")\n",
      "The alphabet contains 35 symbols.\n",
      "The model is a transformer (DistilBertForSequenceClassification)\n"
     ]
    }
   ],
   "source": [
    "dataset_amount = 10\n",
    "for ds in range(1,dataset_amount+1):\n",
    "    DATASET = ds\n",
    "    model_name = f\"models/2.{DATASET}.taysir.model\"\n",
    "    model = mlflow.pytorch.load_model(model_name)\n",
    "    \n",
    "    print(\"\\n\")\n",
    "    print(\"Model:\", ds)\n",
    "    print(model.eval())\n",
    "    try:#RNN\n",
    "        nb_letters = model.input_size -1\n",
    "        cell_type = model.cell_type\n",
    "\n",
    "        print(\"The alphabet contains\", nb_letters, \"symbols.\")\n",
    "        print(\"The type of the recurrent cells is\", cell_type.__name__)\n",
    "    except:\n",
    "        nb_letters = model.distilbert.config.vocab_size\n",
    "        print(\"The alphabet contains\", nb_letters, \"symbols.\")\n",
    "        print(\"The model is a transformer (DistilBertForSequenceClassification)\")"
   ]
  },
  {
   "cell_type": "code",
   "execution_count": 8,
   "metadata": {},
   "outputs": [],
   "source": [
    "TRACK = 2 #always for this track\n",
    "DATASET = 1"
   ]
  },
  {
   "cell_type": "code",
   "execution_count": 5,
   "metadata": {},
   "outputs": [
    {
     "name": "stderr",
     "output_type": "stream",
     "text": [
      "2023/04/06 00:19:58 WARNING mlflow.pytorch: Stored model version '1.11.0+cu102' does not match installed PyTorch version '2.1.0.dev20230403+cpu'\n"
     ]
    },
    {
     "data": {
      "text/plain": [
       "DistilBertForTokenClassification(\n",
       "  (distilbert): DistilBertModel(\n",
       "    (embeddings): Embeddings(\n",
       "      (word_embeddings): Embedding(64, 256, padding_idx=0)\n",
       "      (position_embeddings): Embedding(512, 256)\n",
       "      (LayerNorm): LayerNorm((256,), eps=1e-12, elementwise_affine=True)\n",
       "      (dropout): Dropout(p=0.1, inplace=False)\n",
       "    )\n",
       "    (transformer): Transformer(\n",
       "      (layer): ModuleList(\n",
       "        (0-7): 8 x TransformerBlock(\n",
       "          (attention): MultiHeadSelfAttention(\n",
       "            (dropout): Dropout(p=0.1, inplace=False)\n",
       "            (q_lin): Linear(in_features=256, out_features=256, bias=True)\n",
       "            (k_lin): Linear(in_features=256, out_features=256, bias=True)\n",
       "            (v_lin): Linear(in_features=256, out_features=256, bias=True)\n",
       "            (out_lin): Linear(in_features=256, out_features=256, bias=True)\n",
       "          )\n",
       "          (sa_layer_norm): LayerNorm((256,), eps=1e-12, elementwise_affine=True)\n",
       "          (ffn): FFN(\n",
       "            (dropout): Dropout(p=0.1, inplace=False)\n",
       "            (lin1): Linear(in_features=256, out_features=512, bias=True)\n",
       "            (lin2): Linear(in_features=512, out_features=256, bias=True)\n",
       "            (activation): GELUActivation()\n",
       "          )\n",
       "          (output_layer_norm): LayerNorm((256,), eps=1e-12, elementwise_affine=True)\n",
       "        )\n",
       "      )\n",
       "    )\n",
       "  )\n",
       "  (dropout): Dropout(p=0.1, inplace=False)\n",
       "  (classifier): Linear(in_features=256, out_features=64, bias=True)\n",
       ")"
      ]
     },
     "execution_count": 5,
     "metadata": {},
     "output_type": "execute_result"
    }
   ],
   "source": [
    "model_name = f\"models/2.{DATASET}.taysir.model\"\n",
    "\n",
    "model = mlflow.pytorch.load_model(model_name)\n",
    "model.eval()"
   ]
  },
  {
   "cell_type": "code",
   "execution_count": 6,
   "metadata": {},
   "outputs": [
    {
     "name": "stdout",
     "output_type": "stream",
     "text": [
      "The alphabet contains 35 symbols.\n",
      "The model is a transformer (DistilBertForSequenceClassification)\n"
     ]
    }
   ],
   "source": [
    "if not hasattr(model, 'distilbert'):#RNN\n",
    "    nb_letters = model.input_size -1\n",
    "    cell_type = model.cell_type\n",
    "\n",
    "    print(\"The alphabet contains\", nb_letters, \"symbols.\")\n",
    "    print(\"The type of the recurrent cells is\", cell_type.__name__)\n",
    "else:\n",
    "    nb_letters = model.distilbert.config.vocab_size\n",
    "    print(\"The alphabet contains\", nb_letters, \"symbols.\")\n",
    "    print(\"The model is a transformer (DistilBertForSequenceClassification)\")"
   ]
  },
  {
   "cell_type": "code",
   "execution_count": null,
   "metadata": {},
   "outputs": [],
   "source": []
  },
  {
   "cell_type": "markdown",
   "metadata": {},
   "source": [
    "## Load the data\n",
    "\n",
    "The input data is in the following format :\n",
    "\n",
    "```\n",
    "[Number of sequences] [Alphabet size]\n",
    "[Length of sequence] [List of symbols]\n",
    "[Length of sequence] [List of symbols]\n",
    "[Length of sequence] [List of symbols]\n",
    "...\n",
    "[Length of sequence] [List of symbols]\n",
    "```\n",
    "\n",
    "For example the following data :\n",
    "\n",
    "```\n",
    "5 10\n",
    "6 8 6 5 1 6 7 4 9\n",
    "12 8 6 9 4 6 8 2 1 0 6 5 9\n",
    "7 8 9 4 3 0 4 9\n",
    "4 8 0 4 9\n",
    "8 8 1 5 2 6 0 5 3 9\n",
    "```\n",
    "\n",
    "is composed of 5 sequences and has an alphabet size of 10 (so symbols are between 0 and 9) and the first sequence is composed of 6 symbols (8 6 5 1 6 7 4 9), notice that 8 is the start symbol and 9 is the end symbol."
   ]
  },
  {
   "cell_type": "code",
   "execution_count": 9,
   "metadata": {},
   "outputs": [],
   "source": [
    "from pythautomata.base_types.alphabet import Alphabet\n",
    "\n",
    "file = f\"datasets/2.{DATASET}.taysir.valid.words\"\n",
    "\n",
    "alphabet = None\n",
    "sequences = []\n",
    "\n",
    "#In the competition the empty sequence is defined as [alphabet_size - 2, alphabet size -1]\n",
    "#For example with the alphabet of size 22 the empty sequence is [20, 21]\n",
    "empty_sequence_len = 2\n",
    "\n",
    "with open(file) as f:\n",
    "    a = f.readline() #Skip first line (number of sequences, alphabet size)\n",
    "    headline = a.split(' ')\n",
    "    alphabet_size = int(headline[1].strip())\n",
    "    alphabet = Alphabet.from_strings([str(x) for x in range(alphabet_size - empty_sequence_len)])\n",
    "    \n",
    "    for line in f:\n",
    "        line = line.strip()\n",
    "        seq = line.split(' ')\n",
    "        seq = [int(i) for i in seq[1:]] #Remove first value (length of sequence) and cast to int\n",
    "        sequences.append(seq)"
   ]
  },
  {
   "cell_type": "markdown",
   "metadata": {},
   "source": [
    "The variable *sequences* is thus **a list of lists**"
   ]
  },
  {
   "cell_type": "code",
   "execution_count": 8,
   "metadata": {},
   "outputs": [
    {
     "name": "stdout",
     "output_type": "stream",
     "text": [
      "Number of sequences: 489\n",
      "10 first sequences:\n",
      "[33, 28, 32, 26, 8, 32, 16, 4, 8, 28, 34]\n",
      "[33, 10, 18, 26, 1, 30, 20, 34]\n",
      "[33, 26, 8, 28, 8, 15, 10, 9, 1, 30, 20, 34]\n",
      "[33, 16, 24, 30, 32, 26, 18, 17, 1, 16, 32, 1, 30, 20, 34]\n",
      "[33, 3, 1, 9, 32, 8, 26, 1, 30, 20, 34]\n",
      "[33, 16, 24, 26, 26, 8, 16, 32, 28, 34]\n",
      "[33, 16, 4, 24, 13, 8, 34]\n",
      "[33, 26, 8, 28, 4, 31, 3, 3, 9, 8, 17, 34]\n",
      "[33, 28, 4, 26, 24, 31, 17, 8, 17, 34]\n",
      "[33, 28, 30, 18, 13, 8, 28, 34]\n"
     ]
    }
   ],
   "source": [
    "print('Number of sequences:', len(sequences))\n",
    "print('10 first sequences:')\n",
    "for i in range(10):\n",
    "    print(sequences[i])"
   ]
  },
  {
   "cell_type": "markdown",
   "metadata": {},
   "source": [
    "## Model extraction\n",
    "\n",
    "This is where you will extract your simple own model."
   ]
  },
  {
   "cell_type": "code",
   "execution_count": 9,
   "metadata": {},
   "outputs": [],
   "source": [
    "from pythautomata.model_comparators.wfa_partition_comparison_strategy import WFAPartitionComparator\n",
    "from pythautomata.utilities.probability_partitioner import QuantizationProbabilityPartitioner\n",
    "#from pythautomata.model_exporters.wfa_image_exporter_with_partition_mapper import WFAImageExporterWithPartitionMapper\n",
    "from pythautomata.base_types.symbol import SymbolStr\n",
    "from pythautomata.utilities.uniform_length_sequence_generator import UniformLengthSequenceGenerator\n",
    "\n",
    "from pymodelextractor.learners.observation_tree_learners.bounded_pdfa_quantization_n_ary_tree_learner import BoundedPDFAQuantizationNAryTreeLearner\n",
    "from pymodelextractor.teachers.pac_batch_probabilistic_teacher import PACBatchProbabilisticTeacher\n",
    "from pymodelextractor.teachers.pac_probabilistic_teacher import PACProbabilisticTeacher\n",
    "from pymodelextractor.utils.pickle_data_loader import PickleDataLoader\n",
    "\n",
    "from utils import predict\n",
    "from pytorch_language_model import PytorchLanguageModel\n",
    "\n",
    "name = \"track_\" + str(TRACK) + \"_dataset_\" + str(DATASET)\n",
    "\n",
    "target_model = PytorchLanguageModel(alphabet, model, name)\n"
   ]
  },
  {
   "cell_type": "code",
   "execution_count": 10,
   "metadata": {},
   "outputs": [],
   "source": [
    "#from last_token_weights_pickle_dataset_generator import LastTokenWeightsPickleDataSetGenerator\n",
    "#LastTokenWeightsPickleDataSetGenerator().genearte_dataset(target_model, 1000, \"./test\",10)"
   ]
  },
  {
   "cell_type": "code",
   "execution_count": 11,
   "metadata": {},
   "outputs": [],
   "source": [
    "epsilon = 0.1\n",
    "delta = 0.1\n",
    "max_states = 1000000\n",
    "max_query_length= 1000000\n",
    "max_secs = 30\n",
    "sequence_generator = UniformLengthSequenceGenerator(alphabet, max_seq_length=100, min_seq_length=20)\n",
    "#dataloader = PickleDataLoader(\"./test\")\n",
    "\n",
    "partitioner = QuantizationProbabilityPartitioner(10)\n",
    "comparator = WFAPartitionComparator(partitioner)\n",
    "teacher1  = PACBatchProbabilisticTeacher(target_model, epsilon = epsilon, delta = delta, max_seq_length = None, comparator = comparator, sequence_generator=sequence_generator, compute_epsilon_star=False)\n",
    "learner = BoundedPDFAQuantizationNAryTreeLearner(partitioner, max_states, max_query_length, max_secs, generate_partial_hipothesis = False, pre_cache_queries_for_building_hipothesis = False,  check_probabilistic_hipothesis = False)\n",
    "learning_result = learner.learn(teacher1)     "
   ]
  },
  {
   "cell_type": "code",
   "execution_count": 12,
   "metadata": {},
   "outputs": [],
   "source": [
    "#teacher2  = PACBatchProbabilisticTeacher(target_model, epsilon = epsilon, delta = delta, max_seq_length = None, comparator = comparator, sequence_generator=sequence_generator, compute_epsilon_star=False, cache_from_dataloader=dataloader)\n",
    "#learner2 = BoundedPDFAQuantizationNAryTreeLearner(partitioner, max_states, max_query_length, max_secs, generate_partial_hipothesis = False, pre_cache_queries_for_building_hipothesis = False,  check_probabilistic_hipothesis = False)\n",
    "#learning_result = learner2.learn(teacher2)     "
   ]
  },
  {
   "cell_type": "code",
   "execution_count": 13,
   "metadata": {},
   "outputs": [
    {
     "data": {
      "text/plain": [
       "<pythautomata.automata.wheighted_automaton_definition.probabilistic_deterministic_finite_automaton.ProbabilisticDeterministicFiniteAutomaton at 0x7f992741dc70>"
      ]
     },
     "execution_count": 13,
     "metadata": {},
     "output_type": "execute_result"
    }
   ],
   "source": [
    "learning_result.model"
   ]
  },
  {
   "cell_type": "markdown",
   "metadata": {},
   "source": [
    "## Save and submit \n",
    "This is the creation of the model needed for the submission to the competition: you just have to run this cell. It will create in your current directory an **archive** that you can then submit on the competition website.\n",
    "\n",
    "**You should NOT modify this part, just run it**"
   ]
  },
  {
   "cell_type": "code",
   "execution_count": 14,
   "metadata": {},
   "outputs": [
    {
     "name": "stdout",
     "output_type": "stream",
     "text": [
      "Submission created at predicted_models/track_2_dataset_10.zip.\n"
     ]
    },
    {
     "name": "stderr",
     "output_type": "stream",
     "text": [
      "/opt/conda/lib/python3.9/site-packages/_distutils_hack/__init__.py:33: UserWarning: Setuptools is replacing distutils.\n",
      "  warnings.warn(\"Setuptools is replacing distutils.\")\n"
     ]
    }
   ],
   "source": [
    "from fast_pdfa_wrapper import MlflowFastPDFA\n",
    "from submit_tools_fix import save_function\n",
    "from fast_pdfa_converter import FastProbabilisticDeterministicFiniteAutomatonConverter as FastPDFAConverter\n",
    "\n",
    "fast_pdfa = FastPDFAConverter().to_fast_pdfa(learning_result.model)\n",
    "mlflow_fast_pdfa = MlflowFastPDFA(fast_pdfa)\n",
    "save_function(mlflow_fast_pdfa, len(learning_result.model.alphabet), target_model.name)"
   ]
  },
  {
   "cell_type": "code",
   "execution_count": 10,
   "metadata": {},
   "outputs": [
    {
     "name": "stdout",
     "output_type": "stream",
     "text": [
      "[[20, 13, 14, 6, 0, 15, 4, 3, 5, 12, 13, 13, 14, 4, 12, 17, 21], [20, 3, 13, 3, 16, 6, 4, 13, 1, 21], [20, 13, 6, 15, 21], [20, 13, 10, 3, 21], [20, 13, 10, 3, 16, 6, 4, 13, 13, 12, 17, 4, 13, 14, 10, 0, 10, 13, 14, 4, 15, 12, 17, 21], [20, 3, 5, 0, 1, 4, 13, 6, 14, 4, 14, 4, 14, 13, 10, 12, 1, 5, 10, 3, 14, 5, 12, 14, 1, 12, 11, 12, 17, 18, 8, 21], [20, 3, 13, 3, 19, 1, 4, 3, 5, 10, 3, 19, 8, 21], [20, 13, 0, 1, 3, 1, 13, 3, 16, 6, 4, 13, 1, 12, 8, 0, 5, 10, 14, 12, 10, 3, 14, 1, 21], [20, 13, 14, 14, 6, 3, 21], [20, 13, 12, 13, 3, 16, 3, 16, 21]]\n",
      "Model loaded, testing it on 10 sequences\n",
      "1.777629888553824e-21\n",
      "1.2247713436020192e-11\n",
      "6.493212342068826e-06\n",
      "1.7650410387975307e-05\n",
      "1.9064327541014065e-30\n",
      "1.4722507587839755e-42\n",
      "7.952713969056707e-17\n",
      "7.49522137622759e-32\n",
      "2.727951463023517e-08\n",
      "3.115369573423187e-10\n"
     ]
    }
   ],
   "source": [
    "#zip_path = f\"predicted_models/{target_model.name}.zip\"\n",
    "zip_path = f\"predicted_models/track_2_dataset_1_TEST.zip\"\n",
    "from load_func import load_function\n",
    "print(sequences[0:10])\n",
    "load_function(zip_path, sequences[0:10])"
   ]
  },
  {
   "cell_type": "code",
   "execution_count": null,
   "metadata": {},
   "outputs": [],
   "source": []
  },
  {
   "cell_type": "code",
   "execution_count": null,
   "metadata": {},
   "outputs": [],
   "source": []
  },
  {
   "cell_type": "code",
   "execution_count": null,
   "metadata": {},
   "outputs": [],
   "source": []
  }
 ],
 "metadata": {
  "accelerator": "GPU",
  "colab": {
   "collapsed_sections": [
    "NXdKde0kt3FR",
    "eKzzh3hot9vZ",
    "BMQF46fnw1Zk"
   ],
   "name": "PFA.ipynb",
   "provenance": []
  },
  "kernelspec": {
   "display_name": "Python 3 (ipykernel)",
   "language": "python",
   "name": "python3"
  },
  "language_info": {
   "codemirror_mode": {
    "name": "ipython",
    "version": 3
   },
   "file_extension": ".py",
   "mimetype": "text/x-python",
   "name": "python",
   "nbconvert_exporter": "python",
   "pygments_lexer": "ipython3",
   "version": "3.9.7"
  },
  "vscode": {
   "interpreter": {
    "hash": "122e9f251b80a4a76e7262659287020d96f7188da42b39e3d812967db6c8742d"
   }
  }
 },
 "nbformat": 4,
 "nbformat_minor": 4
}
