{
 "cells": [
  {
   "cell_type": "markdown",
   "metadata": {},
   "source": [
    "# TAYSIR competition - Track 2 Example Extraction\n",
    "\n",
    "### Welcome!\n",
    "\n",
    "This is a notebook to show the structure of a code to participate to the competition.\n",
    "\n",
    "You can also check the baseline notebook (available in the same archive) for more details about the TAYSIR models and how to use them."
   ]
  },
  {
   "cell_type": "markdown",
   "metadata": {},
   "source": [
    "## Prepare your environment"
   ]
  },
  {
   "cell_type": "code",
   "execution_count": null,
   "metadata": {},
   "outputs": [],
   "source": [
    "#!pip install mlflow torch"
   ]
  },
  {
   "cell_type": "code",
   "execution_count": 6,
   "metadata": {},
   "outputs": [
    {
     "name": "stdout",
     "output_type": "stream",
     "text": [
      "Requirement already satisfied: pymodelextractor in c:\\users\\franz\\anaconda3\\envs\\pymodelextractor_exp\\lib\\site-packages (0.35.0)\n",
      "Collecting pymodelextractor\n",
      "  Downloading pymodelextractor-0.35.1-py3-none-any.whl (96 kB)\n",
      "Requirement already satisfied: scikit-learn<2.0.0,>=1.2.1 in c:\\users\\franz\\anaconda3\\envs\\pymodelextractor_exp\\lib\\site-packages (from pymodelextractor) (1.2.1)\n",
      "Requirement already satisfied: pythautomata==0.38.1 in c:\\users\\franz\\anaconda3\\envs\\pymodelextractor_exp\\lib\\site-packages (from pymodelextractor) (0.38.1)\n",
      "Requirement already satisfied: scipy<2.0.0,>=1.7.3 in c:\\users\\franz\\anaconda3\\envs\\pymodelextractor_exp\\lib\\site-packages (from pythautomata==0.38.1->pymodelextractor) (1.7.3)\n",
      "Requirement already satisfied: graphviz in c:\\users\\franz\\anaconda3\\envs\\pymodelextractor_exp\\lib\\site-packages (from pythautomata==0.38.1->pymodelextractor) (0.19.1)\n",
      "Requirement already satisfied: pydot<2.0.0,>=1.4.2 in c:\\users\\franz\\anaconda3\\envs\\pymodelextractor_exp\\lib\\site-packages (from pythautomata==0.38.1->pymodelextractor) (1.4.2)\n",
      "Requirement already satisfied: numpy in c:\\users\\franz\\anaconda3\\envs\\pymodelextractor_exp\\lib\\site-packages (from pythautomata==0.38.1->pymodelextractor) (1.22.4)\n",
      "Requirement already satisfied: pyparsing>=2.1.4 in c:\\users\\franz\\appdata\\roaming\\python\\python39\\site-packages (from pydot<2.0.0,>=1.4.2->pythautomata==0.38.1->pymodelextractor) (2.4.7)\n",
      "Requirement already satisfied: joblib>=1.1.1 in c:\\users\\franz\\anaconda3\\envs\\pymodelextractor_exp\\lib\\site-packages (from scikit-learn<2.0.0,>=1.2.1->pymodelextractor) (1.2.0)\n",
      "Requirement already satisfied: threadpoolctl>=2.0.0 in c:\\users\\franz\\anaconda3\\envs\\pymodelextractor_exp\\lib\\site-packages (from scikit-learn<2.0.0,>=1.2.1->pymodelextractor) (3.1.0)\n",
      "Installing collected packages: pymodelextractor\n",
      "  Attempting uninstall: pymodelextractor\n",
      "    Found existing installation: pymodelextractor 0.35.0\n",
      "    Uninstalling pymodelextractor-0.35.0:\n",
      "      Successfully uninstalled pymodelextractor-0.35.0\n",
      "Successfully installed pymodelextractor-0.35.1\n"
     ]
    }
   ],
   "source": [
    "!pip install --upgrade pymodelextractor"
   ]
  },
  {
   "cell_type": "code",
   "execution_count": 118,
   "metadata": {},
   "outputs": [
    {
     "name": "stdout",
     "output_type": "stream",
     "text": [
      "PyTorch version : 2.1.0.dev20230403+cpu\n",
      "MLflow version : 2.2.2\n",
      "Your python version: 3.9.7 | packaged by conda-forge | (default, Sep 29 2021, 19:20:46) \n",
      "[GCC 9.4.0]\n"
     ]
    }
   ],
   "source": [
    "import torch\n",
    "import mlflow\n",
    "print('PyTorch version :', torch.__version__)\n",
    "print('MLflow version :', mlflow.__version__)\n",
    "import sys\n",
    "print(\"Your python version:\", sys.version)"
   ]
  },
  {
   "cell_type": "code",
   "execution_count": 119,
   "metadata": {},
   "outputs": [],
   "source": [
    "torch.set_num_threads(4)"
   ]
  },
  {
   "cell_type": "markdown",
   "metadata": {},
   "source": [
    "This notebook was tested with:\n",
    "* Torch version: 1.11.0+cu102\n",
    "* MLFlow version: 1.25.1\n",
    "* Python version: 3.8.10 [GCC 9.4.0]\n",
    "\n",
    "Python versions starting at 3.7 are supposed to work (but have not been tested).\n",
    "## Choosing the phase\n",
    "\n",
    "First you must select one of the phases/datasets we provide"
   ]
  },
  {
   "cell_type": "code",
   "execution_count": 120,
   "metadata": {},
   "outputs": [
    {
     "name": "stderr",
     "output_type": "stream",
     "text": [
      "2023/04/20 15:38:04 WARNING mlflow.pytorch: Stored model version '1.13.1+cpu' does not match installed PyTorch version '2.1.0.dev20230403+cpu'\n",
      "2023/04/20 15:38:04 WARNING mlflow.pytorch: Stored model version '1.13.1+cpu' does not match installed PyTorch version '2.1.0.dev20230403+cpu'\n",
      "2023/04/20 15:38:04 WARNING mlflow.pytorch: Stored model version '1.13.1+cpu' does not match installed PyTorch version '2.1.0.dev20230403+cpu'\n",
      "2023/04/20 15:38:04 WARNING mlflow.pytorch: Stored model version '1.13.1+cpu' does not match installed PyTorch version '2.1.0.dev20230403+cpu'\n",
      "2023/04/20 15:38:04 WARNING mlflow.pytorch: Stored model version '1.13.1+cpu' does not match installed PyTorch version '2.1.0.dev20230403+cpu'\n",
      "2023/04/20 15:38:04 WARNING mlflow.pytorch: Stored model version '1.13.1+cpu' does not match installed PyTorch version '2.1.0.dev20230403+cpu'\n",
      "2023/04/20 15:38:04 WARNING mlflow.pytorch: Stored model version '1.13.1+cpu' does not match installed PyTorch version '2.1.0.dev20230403+cpu'\n",
      "2023/04/20 15:38:04 WARNING mlflow.pytorch: Stored model version '1.13.1+cpu' does not match installed PyTorch version '2.1.0.dev20230403+cpu'\n",
      "2023/04/20 15:38:04 WARNING mlflow.pytorch: Stored model version '1.13.1+cpu' does not match installed PyTorch version '2.1.0.dev20230403+cpu'\n",
      "2023/04/20 15:38:04 WARNING mlflow.pytorch: Stored model version '1.11.0+cu102' does not match installed PyTorch version '2.1.0.dev20230403+cpu'\n"
     ]
    },
    {
     "name": "stdout",
     "output_type": "stream",
     "text": [
      "\n",
      "\n",
      "Model: 1\n",
      "TNetwork(\n",
      "  23, 22, n_layers=2, neurons_per_layer=64, batch_size=64, patience=5, split_dense=True, task=lm\n",
      "  (mach[0]): RNN(22, 64, batch_first=True)\n",
      "  (mach[1]): RNN(64, 64, batch_first=True)\n",
      "  (dense): Sequential(\n",
      "    (0): Linear(in_features=64, out_features=32, bias=True)\n",
      "    (1): Linear(in_features=32, out_features=22, bias=True)\n",
      "    (2): Sigmoid()\n",
      "    (3): Softmax(dim=-1)\n",
      "  )\n",
      ")\n",
      "The alphabet contains 22 symbols.\n",
      "The type of the recurrent cells is RNN\n",
      "\n",
      "\n",
      "Model: 2\n",
      "TNetwork(\n",
      "  10, 9, n_layers=2, neurons_per_layer=256, cell_type=lstmx.LSTMx, batch_size=64, patience=5, split_dense=True, task=lm\n",
      "  (mach[0]): LSTMx(\n",
      "    9, 256, batch_first=True\n",
      "    (drop_layer): Dropout(p=0, inplace=False)\n",
      "    (forward_layers[0]): LSTMCell(9, 256)\n",
      "  )\n",
      "  (mach[1]): LSTMx(\n",
      "    256, 256, batch_first=True\n",
      "    (drop_layer): Dropout(p=0, inplace=False)\n",
      "    (forward_layers[0]): LSTMCell(256, 256)\n",
      "  )\n",
      "  (dense): Sequential(\n",
      "    (0): Linear(in_features=256, out_features=128, bias=True)\n",
      "    (1): Linear(in_features=128, out_features=9, bias=True)\n",
      "    (2): Sigmoid()\n",
      "    (3): Softmax(dim=-1)\n",
      "  )\n",
      ")\n",
      "The alphabet contains 9 symbols.\n",
      "The type of the recurrent cells is LSTMx\n",
      "\n",
      "\n",
      "Model: 3\n",
      "TNetwork(\n",
      "  18, 17, n_layers=2, neurons_per_layer=64, cell_type=lstmx.LSTMx, batch_size=64, patience=5, split_dense=True, task=lm\n",
      "  (mach[0]): LSTMx(\n",
      "    17, 64, batch_first=True\n",
      "    (drop_layer): Dropout(p=0, inplace=False)\n",
      "    (forward_layers[0]): LSTMCell(17, 64)\n",
      "  )\n",
      "  (mach[1]): LSTMx(\n",
      "    64, 64, batch_first=True\n",
      "    (drop_layer): Dropout(p=0, inplace=False)\n",
      "    (forward_layers[0]): LSTMCell(64, 64)\n",
      "  )\n",
      "  (dense): Sequential(\n",
      "    (0): Linear(in_features=64, out_features=32, bias=True)\n",
      "    (1): Linear(in_features=32, out_features=17, bias=True)\n",
      "    (2): Sigmoid()\n",
      "    (3): Softmax(dim=-1)\n",
      "  )\n",
      ")\n",
      "The alphabet contains 17 symbols.\n",
      "The type of the recurrent cells is LSTMx\n",
      "\n",
      "\n",
      "Model: 4\n",
      "TNetwork(\n",
      "  23, 22, cell_type=torch.nn.modules.rnn.GRU, batch_size=128, patience=5, split_dense=True, task=lm\n",
      "  (mach[0]): GRU(22, 32, batch_first=True)\n",
      "  (dense): Sequential(\n",
      "    (0): Linear(in_features=32, out_features=16, bias=True)\n",
      "    (1): Linear(in_features=16, out_features=22, bias=True)\n",
      "    (2): Sigmoid()\n",
      "    (3): Softmax(dim=-1)\n",
      "  )\n",
      ")\n",
      "The alphabet contains 22 symbols.\n",
      "The type of the recurrent cells is GRU\n",
      "\n",
      "\n",
      "Model: 5\n",
      "TNetwork(\n",
      "  36, 35, neurons_per_layer=512, cell_type=lstmx.LSTMx, batch_size=64, patience=20, split_dense=True, task=lm\n",
      "  (mach[0]): LSTMx(\n",
      "    35, 512, batch_first=True\n",
      "    (drop_layer): Dropout(p=0, inplace=False)\n",
      "    (forward_layers[0]): LSTMCell(35, 512)\n",
      "  )\n",
      "  (dense): Sequential(\n",
      "    (0): Linear(in_features=512, out_features=256, bias=True)\n",
      "    (1): Linear(in_features=256, out_features=35, bias=True)\n",
      "    (2): Sigmoid()\n",
      "    (3): Softmax(dim=-1)\n",
      "  )\n",
      ")\n",
      "The alphabet contains 35 symbols.\n",
      "The type of the recurrent cells is LSTMx\n",
      "\n",
      "\n",
      "Model: 6\n",
      "TNetwork(\n",
      "  23, 22, cell_type=torch.nn.modules.rnn.GRU, batch_size=64, patience=5, bidirectional=True, task=lm\n",
      "  (mach[0]): GRU(22, 32, batch_first=True, bidirectional=True)\n",
      "  (dense): Sequential(\n",
      "    (0): Linear(in_features=64, out_features=22, bias=True)\n",
      "    (1): Sigmoid()\n",
      "    (2): Softmax(dim=-1)\n",
      "  )\n",
      ")\n",
      "The alphabet contains 22 symbols.\n",
      "The type of the recurrent cells is GRU\n",
      "\n",
      "\n",
      "Model: 7\n",
      "TNetwork(\n",
      "  23, 22, n_layers=2, neurons_per_layer=64, batch_size=64, patience=5, split_dense=True, task=lm\n",
      "  (mach[0]): RNN(22, 64, batch_first=True)\n",
      "  (mach[1]): RNN(64, 64, batch_first=True)\n",
      "  (dense): Sequential(\n",
      "    (0): Linear(in_features=64, out_features=32, bias=True)\n",
      "    (1): Linear(in_features=32, out_features=22, bias=True)\n",
      "    (2): Sigmoid()\n",
      "    (3): Softmax(dim=-1)\n",
      "  )\n",
      ")\n",
      "The alphabet contains 22 symbols.\n",
      "The type of the recurrent cells is RNN\n",
      "\n",
      "\n",
      "Model: 8\n",
      "TNetwork(\n",
      "  27, 26, n_layers=2, neurons_per_layer=124, batch_size=64, patience=5, task=lm\n",
      "  (mach[0]): RNN(26, 124, batch_first=True)\n",
      "  (mach[1]): RNN(124, 124, batch_first=True)\n",
      "  (dense): Sequential(\n",
      "    (0): Linear(in_features=124, out_features=26, bias=True)\n",
      "    (1): Sigmoid()\n",
      "    (2): Softmax(dim=-1)\n",
      "  )\n",
      ")\n",
      "The alphabet contains 26 symbols.\n",
      "The type of the recurrent cells is RNN\n",
      "\n",
      "\n",
      "Model: 9\n",
      "TNetwork(\n",
      "  23, 22, cell_type=torch.nn.modules.rnn.GRU, batch_size=64, patience=5, bidirectional=True, task=lm\n",
      "  (mach[0]): GRU(22, 32, batch_first=True, bidirectional=True)\n",
      "  (dense): Sequential(\n",
      "    (0): Linear(in_features=64, out_features=22, bias=True)\n",
      "    (1): Sigmoid()\n",
      "    (2): Softmax(dim=-1)\n",
      "  )\n",
      ")\n",
      "The alphabet contains 22 symbols.\n",
      "The type of the recurrent cells is GRU\n",
      "\n",
      "\n",
      "Model: 10\n",
      "DistilBertForTokenClassification(\n",
      "  (distilbert): DistilBertModel(\n",
      "    (embeddings): Embeddings(\n",
      "      (word_embeddings): Embedding(64, 256, padding_idx=0)\n",
      "      (position_embeddings): Embedding(512, 256)\n",
      "      (LayerNorm): LayerNorm((256,), eps=1e-12, elementwise_affine=True)\n",
      "      (dropout): Dropout(p=0.1, inplace=False)\n",
      "    )\n",
      "    (transformer): Transformer(\n",
      "      (layer): ModuleList(\n",
      "        (0-7): 8 x TransformerBlock(\n",
      "          (attention): MultiHeadSelfAttention(\n",
      "            (dropout): Dropout(p=0.1, inplace=False)\n",
      "            (q_lin): Linear(in_features=256, out_features=256, bias=True)\n",
      "            (k_lin): Linear(in_features=256, out_features=256, bias=True)\n",
      "            (v_lin): Linear(in_features=256, out_features=256, bias=True)\n",
      "            (out_lin): Linear(in_features=256, out_features=256, bias=True)\n",
      "          )\n",
      "          (sa_layer_norm): LayerNorm((256,), eps=1e-12, elementwise_affine=True)\n",
      "          (ffn): FFN(\n",
      "            (dropout): Dropout(p=0.1, inplace=False)\n",
      "            (lin1): Linear(in_features=256, out_features=512, bias=True)\n",
      "            (lin2): Linear(in_features=512, out_features=256, bias=True)\n",
      "            (activation): GELUActivation()\n",
      "          )\n",
      "          (output_layer_norm): LayerNorm((256,), eps=1e-12, elementwise_affine=True)\n",
      "        )\n",
      "      )\n",
      "    )\n",
      "  )\n",
      "  (dropout): Dropout(p=0.1, inplace=False)\n",
      "  (classifier): Linear(in_features=256, out_features=64, bias=True)\n",
      ")\n",
      "The alphabet contains 35 symbols.\n",
      "The model is a transformer (DistilBertForSequenceClassification)\n"
     ]
    }
   ],
   "source": [
    "dataset_amount = 10\n",
    "for ds in range(1,dataset_amount+1):\n",
    "    DATASET = ds\n",
    "    model_name = f\"models/2.{DATASET}.taysir.model\"\n",
    "    model = mlflow.pytorch.load_model(model_name)\n",
    "    \n",
    "    print(\"\\n\")\n",
    "    print(\"Model:\", ds)\n",
    "    print(model.eval())\n",
    "    try:#RNN\n",
    "        nb_letters = model.input_size -1\n",
    "        cell_type = model.cell_type\n",
    "\n",
    "        print(\"The alphabet contains\", nb_letters, \"symbols.\")\n",
    "        print(\"The type of the recurrent cells is\", cell_type.__name__)\n",
    "    except:\n",
    "        nb_letters = model.distilbert.config.vocab_size\n",
    "        print(\"The alphabet contains\", nb_letters, \"symbols.\")\n",
    "        print(\"The model is a transformer (DistilBertForSequenceClassification)\")"
   ]
  },
  {
   "cell_type": "code",
   "execution_count": 148,
   "metadata": {},
   "outputs": [],
   "source": [
    "TRACK = 2 #always for this track\n",
    "DATASET = 2"
   ]
  },
  {
   "cell_type": "code",
   "execution_count": 150,
   "metadata": {},
   "outputs": [
    {
     "name": "stderr",
     "output_type": "stream",
     "text": [
      "2023/04/21 15:43:30 WARNING mlflow.pytorch: Stored model version '1.13.1+cu117' does not match installed PyTorch version '2.1.0.dev20230403+cpu'\n"
     ]
    },
    {
     "data": {
      "text/plain": [
       "TNetwork(\n",
       "  19, 2, patience=5, bidirectional=True, split_dense=True\n",
       "  (mach[0]): RNN(18, 32, batch_first=True, bidirectional=True)\n",
       "  (dense): Sequential(\n",
       "    (0): Linear(in_features=64, out_features=16, bias=True)\n",
       "    (1): Linear(in_features=16, out_features=2, bias=True)\n",
       "    (2): Sigmoid()\n",
       "    (3): Softmax(dim=-1)\n",
       "  )\n",
       ")"
      ]
     },
     "execution_count": 150,
     "metadata": {},
     "output_type": "execute_result"
    }
   ],
   "source": [
    "model_name = f\"models/{TRACK}.{DATASET}.taysir.model\"\n",
    "\n",
    "model = mlflow.pytorch.load_model(model_name)\n",
    "model.eval()"
   ]
  },
  {
   "cell_type": "code",
   "execution_count": 123,
   "metadata": {},
   "outputs": [
    {
     "name": "stdout",
     "output_type": "stream",
     "text": [
      "The alphabet contains 22 symbols.\n",
      "The type of the recurrent cells is RNN\n"
     ]
    }
   ],
   "source": [
    "if not hasattr(model, 'distilbert'):#RNN\n",
    "    nb_letters = model.input_size -1\n",
    "    cell_type = model.cell_type\n",
    "\n",
    "    print(\"The alphabet contains\", nb_letters, \"symbols.\")\n",
    "    print(\"The type of the recurrent cells is\", cell_type.__name__)\n",
    "else:\n",
    "    nb_letters = model.distilbert.config.vocab_size\n",
    "    print(\"The alphabet contains\", nb_letters, \"symbols.\")\n",
    "    print(\"The model is a transformer (DistilBertForSequenceClassification)\")"
   ]
  },
  {
   "cell_type": "code",
   "execution_count": null,
   "metadata": {},
   "outputs": [],
   "source": []
  },
  {
   "cell_type": "markdown",
   "metadata": {},
   "source": [
    "## Load the data\n",
    "\n",
    "The input data is in the following format :\n",
    "\n",
    "```\n",
    "[Number of sequences] [Alphabet size]\n",
    "[Length of sequence] [List of symbols]\n",
    "[Length of sequence] [List of symbols]\n",
    "[Length of sequence] [List of symbols]\n",
    "...\n",
    "[Length of sequence] [List of symbols]\n",
    "```\n",
    "\n",
    "For example the following data :\n",
    "\n",
    "```\n",
    "5 10\n",
    "6 8 6 5 1 6 7 4 9\n",
    "12 8 6 9 4 6 8 2 1 0 6 5 9\n",
    "7 8 9 4 3 0 4 9\n",
    "4 8 0 4 9\n",
    "8 8 1 5 2 6 0 5 3 9\n",
    "```\n",
    "\n",
    "is composed of 5 sequences and has an alphabet size of 10 (so symbols are between 0 and 9) and the first sequence is composed of 6 symbols (8 6 5 1 6 7 4 9), notice that 8 is the start symbol and 9 is the end symbol."
   ]
  },
  {
   "cell_type": "code",
   "execution_count": 151,
   "metadata": {},
   "outputs": [],
   "source": [
    "from pythautomata.base_types.alphabet import Alphabet\n",
    "\n",
    "file = f\"datasets/{TRACK}.{DATASET}.taysir.valid.words\"\n",
    "\n",
    "alphabet = None\n",
    "sequences = []\n",
    "\n",
    "#In the competition the empty sequence is defined as [alphabet_size - 2, alphabet size -1]\n",
    "#For example with the alphabet of size 22 the empty sequence is [20, 21]\n",
    "empty_sequence_len = 2\n",
    "\n",
    "with open(file) as f:\n",
    "    a = f.readline() #Skip first line (number of sequences, alphabet size)\n",
    "    headline = a.split(' ')\n",
    "    alphabet_size = int(headline[1].strip())\n",
    "    alphabet = Alphabet.from_strings([str(x) for x in range(alphabet_size - empty_sequence_len)])\n",
    "    \n",
    "    for line in f:\n",
    "        line = line.strip()\n",
    "        seq = line.split(' ')\n",
    "        seq = [int(i) for i in seq[1:]] #Remove first value (length of sequence) and cast to int\n",
    "        sequences.append(seq)"
   ]
  },
  {
   "cell_type": "markdown",
   "metadata": {},
   "source": [
    "The variable *sequences* is thus **a list of lists**"
   ]
  },
  {
   "cell_type": "code",
   "execution_count": 152,
   "metadata": {},
   "outputs": [
    {
     "name": "stdout",
     "output_type": "stream",
     "text": [
      "Number of sequences: 10000\n",
      "10 first sequences:\n",
      "[16, 13, 13, 13, 4, 6, 3, 9, 0, 0, 13, 11, 8, 2, 8, 13, 4, 8, 15, 14, 15, 17]\n",
      "[16, 6, 15, 1, 14, 5, 12, 4, 11, 14, 7, 8, 15, 7, 6, 3, 7, 6, 13, 10, 0, 17]\n",
      "[16, 13, 13, 13, 10, 1, 1, 12, 9, 9, 15, 13, 8, 1, 11, 12, 8, 5, 7, 7, 8, 17]\n",
      "[16, 13, 13, 13, 2, 12, 0, 15, 8, 4, 4, 13, 5, 11, 13, 2, 4, 8, 0, 12, 5, 17]\n",
      "[16, 8, 10, 7, 2, 13, 11, 14, 0, 3, 14, 6, 9, 11, 11, 13, 10, 15, 3, 10, 7, 17]\n",
      "[16, 13, 13, 13, 5, 1, 10, 2, 3, 15, 3, 14, 6, 11, 14, 3, 6, 8, 13, 2, 4, 17]\n",
      "[16, 9, 7, 3, 2, 6, 0, 0, 5, 8, 0, 8, 10, 5, 13, 12, 0, 14, 14, 2, 11, 17]\n",
      "[16, 13, 13, 13, 11, 14, 13, 7, 4, 6, 5, 5, 14, 3, 5, 9, 9, 10, 9, 2, 1, 17]\n",
      "[16, 6, 4, 14, 9, 14, 0, 10, 13, 10, 4, 1, 11, 1, 3, 12, 4, 14, 6, 0, 1, 17]\n",
      "[16, 13, 13, 13, 8, 7, 1, 0, 1, 0, 2, 10, 10, 15, 13, 8, 12, 4, 3, 6, 5, 17]\n"
     ]
    }
   ],
   "source": [
    "print('Number of sequences:', len(sequences))\n",
    "print('10 first sequences:')\n",
    "for i in range(10):\n",
    "    print(sequences[i])"
   ]
  },
  {
   "cell_type": "markdown",
   "metadata": {},
   "source": [
    "## Model extraction\n",
    "\n",
    "This is where you will extract your simple own model."
   ]
  },
  {
   "cell_type": "code",
   "execution_count": 126,
   "metadata": {},
   "outputs": [],
   "source": [
    "from pythautomata.model_comparators.wfa_partition_comparison_strategy import WFAPartitionComparator\n",
    "from pythautomata.utilities.probability_partitioner import QuantizationProbabilityPartitioner\n",
    "#from pythautomata.model_exporters.wfa_image_exporter_with_partition_mapper import WFAImageExporterWithPartitionMapper\n",
    "from pythautomata.base_types.symbol import SymbolStr\n",
    "from pythautomata.utilities.uniform_length_sequence_generator import UniformLengthSequenceGenerator\n",
    "\n",
    "from pymodelextractor.learners.observation_tree_learners.bounded_pdfa_quantization_n_ary_tree_learner import BoundedPDFAQuantizationNAryTreeLearner\n",
    "from pymodelextractor.teachers.pac_batch_probabilistic_teacher import PACBatchProbabilisticTeacher\n",
    "from pymodelextractor.teachers.pac_probabilistic_teacher import PACProbabilisticTeacher\n",
    "from pymodelextractor.utils.pickle_data_loader import PickleDataLoader\n",
    "\n",
    "from utils import predict\n",
    "from pytorch_language_model import PytorchLanguageModel\n",
    "\n",
    "name = \"track_\" + str(TRACK) + \"_dataset_\" + str(DATASET)\n",
    "\n",
    "target_model = PytorchLanguageModel(alphabet, model, name)\n"
   ]
  },
  {
   "cell_type": "code",
   "execution_count": 147,
   "metadata": {},
   "outputs": [
    {
     "data": {
      "text/plain": [
       "0.0013165645068511367"
      ]
     },
     "execution_count": 147,
     "metadata": {},
     "output_type": "execute_result"
    }
   ],
   "source": [
    "utils_seq_proba = utils.sequence_probability([0,1,0], model)\n",
    "utils_seq_proba"
   ]
  },
  {
   "cell_type": "code",
   "execution_count": 105,
   "metadata": {},
   "outputs": [],
   "source": [
    "from pythautomata.base_types.alphabet import Alphabet\n",
    "from pythautomata.base_types.symbol import SymbolStr\n",
    "from pythautomata.base_types.sequence import Sequence\n",
    "\n",
    "def get_alphabet_and_validation_sequences(ds):\n",
    "    file = f\"datasets/2.{ds}.taysir.valid.words\"\n",
    "    alphabet = None\n",
    "    sequences = []\n",
    "\n",
    "    empty_sequence_len = 2\n",
    "    with open(file) as f:\n",
    "        a = f.readline()\n",
    "        headline = a.split(' ')\n",
    "        alphabet_size = int(headline[1].strip())\n",
    "        alphabet = Alphabet.from_strings([str(x) for x in range(alphabet_size - empty_sequence_len)])\n",
    "        for line in f:\n",
    "            line = line.strip()\n",
    "            seq = line.split(' ')[1:]\n",
    "            seq = [SymbolStr(i) for i in seq[1:]]            \n",
    "            sequences.append(Sequence(seq))\n",
    "    return alphabet, sequences"
   ]
  },
  {
   "cell_type": "code",
   "execution_count": 106,
   "metadata": {},
   "outputs": [],
   "source": [
    "_, pythaut_sequences = get_alphabet_and_validation_sequences(DATASET)"
   ]
  },
  {
   "cell_type": "code",
   "execution_count": 107,
   "metadata": {},
   "outputs": [],
   "source": [
    "suffixes = [target_model.terminal_symbol]\n",
    "for symbol in target_model.alphabet.symbols:\n",
    "    suffixes.append(Sequence((symbol,)))"
   ]
  },
  {
   "cell_type": "code",
   "execution_count": 133,
   "metadata": {},
   "outputs": [],
   "source": [
    "seq_0 = Sequence([SymbolStr('0')])\n",
    "seq_010 = Sequence([SymbolStr('0'), SymbolStr('1'), SymbolStr('0')])\n",
    "seq_eps = Sequence([])"
   ]
  },
  {
   "cell_type": "code",
   "execution_count": 131,
   "metadata": {},
   "outputs": [
    {
     "data": {
      "text/plain": [
       "[0.0281967930495739,\n",
       " 0.0,\n",
       " 0.02822423353791237,\n",
       " 0.028198517858982086,\n",
       " 0.0281969141215086,\n",
       " 0.07661447674036026,\n",
       " 0.028222467750310898,\n",
       " 0.028376396745443344,\n",
       " 0.06932707130908966,\n",
       " 0.028197145089507103,\n",
       " 0.049477893859148026,\n",
       " 0.0281967930495739,\n",
       " 0.04306797683238983,\n",
       " 0.062456440180540085,\n",
       " 0.0366104356944561,\n",
       " 0.07664680480957031,\n",
       " 0.031008711084723473,\n",
       " 0.07645978033542633,\n",
       " 0.07664657384157181,\n",
       " 0.07245078682899475,\n",
       " 0.04702847823500633]"
      ]
     },
     "execution_count": 131,
     "metadata": {},
     "output_type": "execute_result"
    }
   ],
   "source": [
    "symbols = list(target_model.alphabet.symbols)\n",
    "symbols.sort()\n",
    "symbols = [target_model.terminal_symbol] + symbols\n",
    "target_model.get_last_token_weights(seq_0, symbols)"
   ]
  },
  {
   "cell_type": "code",
   "execution_count": 145,
   "metadata": {},
   "outputs": [
    {
     "data": {
      "text/plain": [
       "0.0"
      ]
     },
     "execution_count": 145,
     "metadata": {},
     "output_type": "execute_result"
    }
   ],
   "source": [
    "target_model.sequence_probability(seq_010)"
   ]
  },
  {
   "cell_type": "code",
   "execution_count": 138,
   "metadata": {},
   "outputs": [
    {
     "data": {
      "text/plain": [
       "[0.0281967930495739,\n",
       " 0.0,\n",
       " 0.02822423353791237,\n",
       " 0.028198517858982086,\n",
       " 0.0281969141215086,\n",
       " 0.07661447674036026,\n",
       " 0.028222467750310898,\n",
       " 0.028376396745443344,\n",
       " 0.06932707130908966,\n",
       " 0.028197145089507103,\n",
       " 0.049477893859148026,\n",
       " 0.0281967930495739,\n",
       " 0.04306797683238983,\n",
       " 0.062456440180540085,\n",
       " 0.0366104356944561,\n",
       " 0.07664680480957031,\n",
       " 0.031008711084723473,\n",
       " 0.07645978033542633,\n",
       " 0.07664657384157181,\n",
       " 0.07245078682899475,\n",
       " 0.04702847823500633]"
      ]
     },
     "execution_count": 138,
     "metadata": {},
     "output_type": "execute_result"
    }
   ],
   "source": [
    "target_model.get_last_token_weights(seq_0, symbols)"
   ]
  },
  {
   "cell_type": "code",
   "execution_count": 144,
   "metadata": {},
   "outputs": [
    {
     "data": {
      "text/plain": [
       "0.0013165645068511367"
      ]
     },
     "execution_count": 144,
     "metadata": {},
     "output_type": "execute_result"
    }
   ],
   "source": [
    "utils.sequence_probability([0,1,0], model)"
   ]
  },
  {
   "cell_type": "code",
   "execution_count": 139,
   "metadata": {},
   "outputs": [
    {
     "data": {
      "text/plain": [
       "array([0.03897433, 0.03897433, 0.03900979, 0.1059432 , 0.03897433,\n",
       "       0.03897433, 0.03948918, 0.04716857, 0.03897458, 0.03897433,\n",
       "       0.03897433, 0.03897436, 0.03897433, 0.10288801, 0.04191166,\n",
       "       0.03897433, 0.03897433, 0.03897433, 0.03897433, 0.03897433,\n",
       "       0.03897433, 0.03897433], dtype=float32)"
      ]
     },
     "execution_count": 139,
     "metadata": {},
     "output_type": "execute_result"
    }
   ],
   "source": [
    "utils.next_symbols_probas([0,1,0], model)"
   ]
  },
  {
   "cell_type": "code",
   "execution_count": 110,
   "metadata": {},
   "outputs": [
    {
     "data": {
      "text/plain": [
       "[21, 0, 1, 10, 11, 12, 13, 14, 15, 16, 17, 18, 19, 2, 3, 4, 5, 6, 7, 8, 9]"
      ]
     },
     "execution_count": 110,
     "metadata": {},
     "output_type": "execute_result"
    }
   ],
   "source": [
    "symbols"
   ]
  },
  {
   "cell_type": "code",
   "execution_count": 111,
   "metadata": {},
   "outputs": [
    {
     "data": {
      "text/plain": [
       "[21, 1, 19, 4, 12, 0, 14, 9, 16, 5, 11, 10, 2, 3, 6, 7, 15, 8, 18, 13, 17]"
      ]
     },
     "execution_count": 111,
     "metadata": {},
     "output_type": "execute_result"
    }
   ],
   "source": [
    "suffixes"
   ]
  },
  {
   "cell_type": "code",
   "execution_count": 112,
   "metadata": {},
   "outputs": [
    {
     "data": {
      "text/plain": [
       "[[0.028196793,\n",
       "  0.028224234,\n",
       "  0.043067977,\n",
       "  0.076646805,\n",
       "  0.07661448,\n",
       "  0.0,\n",
       "  0.028376397,\n",
       "  0.04702848,\n",
       "  0.028197145,\n",
       "  0.031008711,\n",
       "  0.028196914,\n",
       "  0.028198518,\n",
       "  0.06245644,\n",
       "  0.036610436,\n",
       "  0.07645978,\n",
       "  0.076646574,\n",
       "  0.06932707,\n",
       "  0.07245079,\n",
       "  0.028196793,\n",
       "  0.028222468,\n",
       "  0.049477894]]"
      ]
     },
     "execution_count": 112,
     "metadata": {},
     "output_type": "execute_result"
    }
   ],
   "source": [
    "target_model.get_last_token_weights_batch([seq_0], suffixes)"
   ]
  },
  {
   "cell_type": "code",
   "execution_count": 113,
   "metadata": {},
   "outputs": [],
   "source": [
    "#from last_token_weights_pickle_dataset_generator import LastTokenWeightsPickleDataSetGenerator\n",
    "#LastTokenWeightsPickleDataSetGenerator().genearte_dataset(target_model, 1000, \"./test\",10)"
   ]
  },
  {
   "cell_type": "code",
   "execution_count": 114,
   "metadata": {},
   "outputs": [
    {
     "name": "stdout",
     "output_type": "stream",
     "text": [
      "<class 'pythautomata.base_types.alphabet.Alphabet'>\n"
     ]
    }
   ],
   "source": [
    "print(type(alphabet))"
   ]
  },
  {
   "cell_type": "code",
   "execution_count": 141,
   "metadata": {},
   "outputs": [],
   "source": [
    "from pythautomata.automata.wheighted_automaton_definition.probabilistic_deterministic_finite_automaton import \\\n",
    "    ProbabilisticDeterministicFiniteAutomaton as PDFA\n",
    "from pythautomata.automata.wheighted_automaton_definition.weighted_state import WeightedState\n",
    "from pythautomata.model_comparators.wfa_tolerance_comparison_strategy import WFAToleranceComparator\n",
    "\n",
    "weight = 1.0/(len(alphabet)+1)\n",
    "weight = 0\n",
    "q0 = WeightedState(\"q0\", 1, weight)\n",
    "for symbol in alphabet.symbols:\n",
    "    q0.add_transition(symbol, q0, weight)\n",
    "states = {q0}\n",
    "comparator = WFAToleranceComparator()\n",
    "testPDFA = PDFA(alphabet, states, target_model.terminal_symbol, comparator, \"Test\", check_is_probabilistic = False)\n"
   ]
  },
  {
   "cell_type": "code",
   "execution_count": null,
   "metadata": {},
   "outputs": [],
   "source": []
  },
  {
   "cell_type": "code",
   "execution_count": 142,
   "metadata": {},
   "outputs": [
    {
     "data": {
      "text/plain": [
       "0.0"
      ]
     },
     "execution_count": 142,
     "metadata": {},
     "output_type": "execute_result"
    }
   ],
   "source": [
    "testPDFA.sequence_probability(seq_0)"
   ]
  },
  {
   "cell_type": "code",
   "execution_count": 117,
   "metadata": {},
   "outputs": [],
   "source": [
    "epsilon = 0.1\n",
    "delta = 0.1\n",
    "max_states = 1000000\n",
    "max_query_length= 1000000\n",
    "max_secs = 30\n",
    "sequence_generator = UniformLengthSequenceGenerator(alphabet, max_seq_length=100, min_seq_length=20)\n",
    "#dataloader = PickleDataLoader(\"./test\")\n",
    "\n",
    "partitioner = QuantizationProbabilityPartitioner(10)\n",
    "comparator = WFAPartitionComparator(partitioner)\n",
    "teacher1  = PACBatchProbabilisticTeacher(target_model, epsilon = epsilon, delta = delta, max_seq_length = None, comparator = comparator, sequence_generator=sequence_generator, compute_epsilon_star=False)\n",
    "learner = BoundedPDFAQuantizationNAryTreeLearner(partitioner, max_states, max_query_length, max_secs, generate_partial_hipothesis = False, pre_cache_queries_for_building_hipothesis = False,  check_probabilistic_hipothesis = False)\n",
    "learning_result = learner.learn(teacher1)     "
   ]
  },
  {
   "cell_type": "code",
   "execution_count": 12,
   "metadata": {},
   "outputs": [],
   "source": [
    "#teacher2  = PACBatchProbabilisticTeacher(target_model, epsilon = epsilon, delta = delta, max_seq_length = None, comparator = comparator, sequence_generator=sequence_generator, compute_epsilon_star=False, cache_from_dataloader=dataloader)\n",
    "#learner2 = BoundedPDFAQuantizationNAryTreeLearner(partitioner, max_states, max_query_length, max_secs, generate_partial_hipothesis = False, pre_cache_queries_for_building_hipothesis = False,  check_probabilistic_hipothesis = False)\n",
    "#learning_result = learner2.learn(teacher2)     "
   ]
  },
  {
   "cell_type": "code",
   "execution_count": 13,
   "metadata": {},
   "outputs": [
    {
     "data": {
      "text/plain": [
       "<pythautomata.automata.wheighted_automaton_definition.probabilistic_deterministic_finite_automaton.ProbabilisticDeterministicFiniteAutomaton at 0x7f992741dc70>"
      ]
     },
     "execution_count": 13,
     "metadata": {},
     "output_type": "execute_result"
    }
   ],
   "source": [
    "learning_result.model"
   ]
  },
  {
   "cell_type": "markdown",
   "metadata": {},
   "source": [
    "## Save and submit \n",
    "This is the creation of the model needed for the submission to the competition: you just have to run this cell. It will create in your current directory an **archive** that you can then submit on the competition website.\n",
    "\n",
    "**You should NOT modify this part, just run it**"
   ]
  },
  {
   "cell_type": "code",
   "execution_count": 14,
   "metadata": {},
   "outputs": [
    {
     "name": "stdout",
     "output_type": "stream",
     "text": [
      "Submission created at predicted_models/track_2_dataset_10.zip.\n"
     ]
    },
    {
     "name": "stderr",
     "output_type": "stream",
     "text": [
      "/opt/conda/lib/python3.9/site-packages/_distutils_hack/__init__.py:33: UserWarning: Setuptools is replacing distutils.\n",
      "  warnings.warn(\"Setuptools is replacing distutils.\")\n"
     ]
    }
   ],
   "source": [
    "from fast_pdfa_wrapper import MlflowFastPDFA\n",
    "from submit_tools_fix import save_function\n",
    "from fast_pdfa_converter import FastProbabilisticDeterministicFiniteAutomatonConverter as FastPDFAConverter\n",
    "\n",
    "fast_pdfa = FastPDFAConverter().to_fast_pdfa(learning_result.model)\n",
    "mlflow_fast_pdfa = MlflowFastPDFA(fast_pdfa)\n",
    "save_function(mlflow_fast_pdfa, len(learning_result.model.alphabet), target_model.name)"
   ]
  },
  {
   "cell_type": "code",
   "execution_count": 143,
   "metadata": {},
   "outputs": [
    {
     "name": "stdout",
     "output_type": "stream",
     "text": [
      "Submission created at predicted_models/TEST_PDFA_0.zip.\n"
     ]
    }
   ],
   "source": [
    "from fast_pdfa_wrapper import MlflowFastPDFA\n",
    "from submit_tools_fix import save_function\n",
    "from fast_pdfa_converter import FastProbabilisticDeterministicFiniteAutomatonConverter as FastPDFAConverter\n",
    "\n",
    "fast_pdfa = FastPDFAConverter().to_fast_pdfa(testPDFA)\n",
    "mlflow_fast_pdfa = MlflowFastPDFA(fast_pdfa)\n",
    "save_function(mlflow_fast_pdfa, len(testPDFA.alphabet), \"TEST_PDFA_0\")"
   ]
  },
  {
   "cell_type": "code",
   "execution_count": 97,
   "metadata": {},
   "outputs": [
    {
     "name": "stdout",
     "output_type": "stream",
     "text": [
      "Submission created at predicted_models/TEST_PDFA.zip.\n"
     ]
    }
   ],
   "source": [
    "save_function(mlflow_fast_pdfa, len(testPDFA.alphabet), \"TEST_PDFA\")"
   ]
  },
  {
   "cell_type": "code",
   "execution_count": 98,
   "metadata": {},
   "outputs": [
    {
     "name": "stdout",
     "output_type": "stream",
     "text": [
      "[[20, 19, 8, 18, 7, 19, 11, 3, 18, 11, 2, 16, 7, 9, 8, 6, 15, 7, 9, 16, 2, 8, 15, 6, 13, 14, 19, 8, 8, 7, 15, 3, 9, 6, 10, 6, 17, 15, 21], [20, 7, 13, 12, 6, 8, 13, 9, 8, 3, 16, 7, 12, 13, 14, 7, 7, 13, 16, 15, 9, 13, 19, 19, 7, 2, 4, 2, 15, 15, 12, 8, 7, 11, 7, 17, 15, 21], [20, 11, 13, 19, 18, 11, 9, 13, 11, 4, 7, 10, 2, 14, 9, 6, 2, 2, 19, 1, 12, 3, 11, 10, 6, 3, 2, 3, 2, 5, 15, 11, 8, 7, 18, 14, 17, 15, 21], [20, 3, 9, 19, 10, 19, 6, 5, 2, 11, 1, 12, 7, 17, 4, 7, 15, 17, 14, 2, 18, 12, 18, 6, 13, 4, 2, 10, 15, 15, 3, 8, 7, 1, 14, 21], [20, 2, 11, 2, 19, 2, 13, 9, 9, 12, 3, 4, 12, 8, 7, 13, 17, 13, 16, 10, 11, 1, 6, 6, 19, 3, 2, 15, 5, 8, 15, 19, 3, 11, 11, 6, 7, 6, 13, 2, 3, 3, 4, 15, 12, 6, 7, 11, 14, 17, 21], [20, 18, 16, 6, 5, 0, 19, 2, 13, 9, 11, 3, 8, 14, 12, 9, 14, 13, 14, 2, 2, 15, 3, 18, 10, 13, 13, 8, 13, 3, 12, 15, 18, 8, 7, 11, 7, 19, 15, 21], [20, 1, 5, 14, 5, 7, 19, 12, 3, 5, 14, 11, 3, 14, 2, 2, 7, 1, 10, 2, 16, 19, 7, 14, 11, 12, 2, 14, 3, 12, 2, 12, 7, 14, 4, 2, 3, 2, 3, 15, 12, 8, 14, 18, 19, 17, 15, 21], [20, 7, 2, 7, 7, 11, 19, 2, 16, 12, 2, 18, 6, 6, 13, 13, 3, 8, 15, 13, 3, 15, 14, 7, 7, 17, 15, 21], [20, 6, 8, 14, 16, 13, 9, 3, 8, 1, 14, 6, 2, 6, 15, 17, 12, 11, 10, 18, 16, 17, 7, 6, 13, 2, 2, 2, 7, 15, 11, 2, 7, 11, 14, 17, 15, 21], [20, 14, 12, 4, 7, 11, 19, 2, 16, 15, 3, 11, 10, 6, 4, 13, 13, 10, 1, 15, 3, 10, 7, 18, 6, 21]]\n",
      "Model loaded, testing it on 10 sequences\n",
      "5.6972699798664e-51\n",
      "1.196426695771944e-49\n",
      "5.6972699798664e-51\n",
      "5.276241728354273e-47\n",
      "7.745246841429003e-67\n",
      "2.7129857046982854e-52\n",
      "7.172873099847401e-63\n",
      "1.995625488461833e-36\n",
      "1.196426695771944e-49\n",
      "8.800708404116685e-34\n"
     ]
    }
   ],
   "source": [
    "#zip_path = f\"predicted_models/{target_model.name}.zip\"\n",
    "zip_path = f\"predicted_models/TEST_PDFA.zip\"\n",
    "from load_func import load_function\n",
    "print(sequences[0:10])\n",
    "load_function(zip_path, sequences[0:10])"
   ]
  },
  {
   "cell_type": "code",
   "execution_count": null,
   "metadata": {},
   "outputs": [],
   "source": []
  },
  {
   "cell_type": "code",
   "execution_count": null,
   "metadata": {},
   "outputs": [],
   "source": []
  },
  {
   "cell_type": "code",
   "execution_count": null,
   "metadata": {},
   "outputs": [],
   "source": []
  }
 ],
 "metadata": {
  "accelerator": "GPU",
  "colab": {
   "collapsed_sections": [
    "NXdKde0kt3FR",
    "eKzzh3hot9vZ",
    "BMQF46fnw1Zk"
   ],
   "name": "PFA.ipynb",
   "provenance": []
  },
  "kernelspec": {
   "display_name": "Python 3 (ipykernel)",
   "language": "python",
   "name": "python3"
  },
  "language_info": {
   "codemirror_mode": {
    "name": "ipython",
    "version": 3
   },
   "file_extension": ".py",
   "mimetype": "text/x-python",
   "name": "python",
   "nbconvert_exporter": "python",
   "pygments_lexer": "ipython3",
   "version": "3.9.7"
  },
  "vscode": {
   "interpreter": {
    "hash": "122e9f251b80a4a76e7262659287020d96f7188da42b39e3d812967db6c8742d"
   }
  }
 },
 "nbformat": 4,
 "nbformat_minor": 4
}
